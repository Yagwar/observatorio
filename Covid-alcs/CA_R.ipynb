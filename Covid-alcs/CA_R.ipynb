{
 "cells": [
  {
   "cell_type": "code",
   "execution_count": 53,
   "metadata": {},
   "outputs": [
    {
     "data": {
      "text/html": [
       "'R version 3.6.1 (2019-07-05)'"
      ],
      "text/latex": [
       "'R version 3.6.1 (2019-07-05)'"
      ],
      "text/markdown": [
       "'R version 3.6.1 (2019-07-05)'"
      ],
      "text/plain": [
       "[1] \"R version 3.6.1 (2019-07-05)\""
      ]
     },
     "metadata": {},
     "output_type": "display_data"
    }
   ],
   "source": [
    "# install.packages(\"FactoMineR\", repos=\"https://cloud.r-project.org/\")\n",
    "library(FactoMineR)\n",
    "library(reshape)\n",
    "R.Version()$version.string"
   ]
  },
  {
   "cell_type": "code",
   "execution_count": 54,
   "metadata": {},
   "outputs": [],
   "source": [
    "tabl_cont_lex_large=read.csv(\"tabl_lex_alcaldes_ideologia.csv\")\n",
    "tabl_cont_lex_categorias=read.csv(\"tabl_lex_alcaldes_categorias.csv\", row.names=1)\n",
    "tabl_cont_lex_ideol=tabl_cont_lex_large[tabl_cont_lex_large$termino %in% rownames(tabl_cont_lex_categorias),]\n",
    "rownames(tabl_cont_lex_ideol)=tabl_cont_lex_ideol$termino\n",
    "tabl_cont_lex_ideol$Category=tabl_cont_lex_categorias$Category"
   ]
  },
  {
   "cell_type": "code",
   "execution_count": 57,
   "metadata": {},
   "outputs": [],
   "source": [
    "tabl_lex_alcaldes_agg=aggregate(. ~ Category, tabl_cont_lex_ideol[,20:46], sum)\n",
    "rownames(tabl_lex_alcaldes_agg)=tabl_lex_alcaldes_agg$Category\n",
    "tabl_lex_alcaldes_agg=subset(tabl_lex_alcaldes_agg, select = -c(Category) )"
   ]
  },
  {
   "cell_type": "code",
   "execution_count": 84,
   "metadata": {},
   "outputs": [
    {
     "data": {
      "text/html": [
       "<table>\n",
       "<thead><tr><th></th><th scope=col>Antes</th><th scope=col>Después</th><th scope=col>Arauca</th><th scope=col>Barranquilla</th><th scope=col>Bogotá</th><th scope=col>Bucaramanga</th><th scope=col>Cali</th><th scope=col>Cúcuta</th><th scope=col>Ibagué</th><th scope=col>Medellín</th><th scope=col>...</th><th scope=col>Sincelejo</th><th scope=col>Tunja</th><th scope=col>Valledupar</th><th scope=col>Villavicencio</th><th scope=col>Derecha_Centro</th><th scope=col>Izquierda_Centro</th><th scope=col>Derecha_Extrema</th><th scope=col>Izquierda_Extrema</th><th scope=col>Derecha</th><th scope=col>Izquierda</th></tr></thead>\n",
       "<tbody>\n",
       "\t<tr><th scope=row>Family</th><td> 82 </td><td> 257</td><td> 5  </td><td> 21 </td><td> 44 </td><td>20  </td><td> 15 </td><td> 5  </td><td>14  </td><td> 28 </td><td>... </td><td>34  </td><td>21  </td><td>15  </td><td> 13 </td><td> 79 </td><td>138 </td><td> 69 </td><td> 53 </td><td>148 </td><td> 191</td></tr>\n",
       "\t<tr><th scope=row>Health</th><td>151 </td><td> 514</td><td> 2  </td><td> 30 </td><td>112 </td><td>47  </td><td> 45 </td><td>10  </td><td>27  </td><td> 69 </td><td>... </td><td>16  </td><td>30  </td><td>18  </td><td> 53 </td><td>124 </td><td>335 </td><td> 79 </td><td>127 </td><td>203 </td><td> 462</td></tr>\n",
       "\t<tr><th scope=row>Home</th><td>128 </td><td> 335</td><td> 2  </td><td> 32 </td><td> 96 </td><td>18  </td><td> 29 </td><td> 8  </td><td> 5  </td><td> 25 </td><td>... </td><td>19  </td><td>16  </td><td>21  </td><td> 43 </td><td> 90 </td><td>206 </td><td> 78 </td><td> 89 </td><td>168 </td><td> 295</td></tr>\n",
       "\t<tr><th scope=row>Negative emotions</th><td> 44 </td><td> 104</td><td> 0  </td><td> 11 </td><td> 28 </td><td> 6  </td><td> 21 </td><td> 6  </td><td> 8  </td><td> 14 </td><td>... </td><td> 5  </td><td> 9  </td><td>10  </td><td>  9 </td><td> 37 </td><td> 80 </td><td> 14 </td><td> 17 </td><td> 51 </td><td>  97</td></tr>\n",
       "\t<tr><th scope=row>Positive emotions</th><td>870 </td><td>1060</td><td>30  </td><td>121 </td><td>321 </td><td>74  </td><td>115 </td><td>41  </td><td>54  </td><td>163 </td><td>... </td><td>82  </td><td>75  </td><td>66  </td><td>169 </td><td>397 </td><td>848 </td><td>248 </td><td>437 </td><td>645 </td><td>1285</td></tr>\n",
       "\t<tr><th scope=row>Sadness</th><td> 13 </td><td> 125</td><td> 3  </td><td> 20 </td><td>  7 </td><td> 4  </td><td> 20 </td><td> 3  </td><td> 4  </td><td> 19 </td><td>... </td><td> 4  </td><td> 9  </td><td>18  </td><td>  4 </td><td> 46 </td><td> 66 </td><td> 14 </td><td> 12 </td><td> 60 </td><td>  78</td></tr>\n",
       "</tbody>\n",
       "</table>\n"
      ],
      "text/latex": [
       "\\begin{tabular}{r|llllllllllllllllllllllllll}\n",
       "  & Antes & Después & Arauca & Barranquilla & Bogotá & Bucaramanga & Cali & Cúcuta & Ibagué & Medellín & ... & Sincelejo & Tunja & Valledupar & Villavicencio & Derecha\\_Centro & Izquierda\\_Centro & Derecha\\_Extrema & Izquierda\\_Extrema & Derecha & Izquierda\\\\\n",
       "\\hline\n",
       "\tFamily &  82  &  257 &  5   &  21  &  44  & 20   &  15  &  5   & 14   &  28  & ...  & 34   & 21   & 15   &  13  &  79  & 138  &  69  &  53  & 148  &  191\\\\\n",
       "\tHealth & 151  &  514 &  2   &  30  & 112  & 47   &  45  & 10   & 27   &  69  & ...  & 16   & 30   & 18   &  53  & 124  & 335  &  79  & 127  & 203  &  462\\\\\n",
       "\tHome & 128  &  335 &  2   &  32  &  96  & 18   &  29  &  8   &  5   &  25  & ...  & 19   & 16   & 21   &  43  &  90  & 206  &  78  &  89  & 168  &  295\\\\\n",
       "\tNegative emotions &  44  &  104 &  0   &  11  &  28  &  6   &  21  &  6   &  8   &  14  & ...  &  5   &  9   & 10   &   9  &  37  &  80  &  14  &  17  &  51  &   97\\\\\n",
       "\tPositive emotions & 870  & 1060 & 30   & 121  & 321  & 74   & 115  & 41   & 54   & 163  & ...  & 82   & 75   & 66   & 169  & 397  & 848  & 248  & 437  & 645  & 1285\\\\\n",
       "\tSadness &  13  &  125 &  3   &  20  &   7  &  4   &  20  &  3   &  4   &  19  & ...  &  4   &  9   & 18   &   4  &  46  &  66  &  14  &  12  &  60  &   78\\\\\n",
       "\\end{tabular}\n"
      ],
      "text/markdown": [
       "\n",
       "| <!--/--> | Antes | Después | Arauca | Barranquilla | Bogotá | Bucaramanga | Cali | Cúcuta | Ibagué | Medellín | ... | Sincelejo | Tunja | Valledupar | Villavicencio | Derecha_Centro | Izquierda_Centro | Derecha_Extrema | Izquierda_Extrema | Derecha | Izquierda |\n",
       "|---|---|---|---|---|---|---|---|---|---|---|---|---|---|---|---|---|---|---|---|---|---|\n",
       "| Family |  82  |  257 |  5   |  21  |  44  | 20   |  15  |  5   | 14   |  28  | ...  | 34   | 21   | 15   |  13  |  79  | 138  |  69  |  53  | 148  |  191 |\n",
       "| Health | 151  |  514 |  2   |  30  | 112  | 47   |  45  | 10   | 27   |  69  | ...  | 16   | 30   | 18   |  53  | 124  | 335  |  79  | 127  | 203  |  462 |\n",
       "| Home | 128  |  335 |  2   |  32  |  96  | 18   |  29  |  8   |  5   |  25  | ...  | 19   | 16   | 21   |  43  |  90  | 206  |  78  |  89  | 168  |  295 |\n",
       "| Negative emotions |  44  |  104 |  0   |  11  |  28  |  6   |  21  |  6   |  8   |  14  | ...  |  5   |  9   | 10   |   9  |  37  |  80  |  14  |  17  |  51  |   97 |\n",
       "| Positive emotions | 870  | 1060 | 30   | 121  | 321  | 74   | 115  | 41   | 54   | 163  | ...  | 82   | 75   | 66   | 169  | 397  | 848  | 248  | 437  | 645  | 1285 |\n",
       "| Sadness |  13  |  125 |  3   |  20  |   7  |  4   |  20  |  3   |  4   |  19  | ...  |  4   |  9   | 18   |   4  |  46  |  66  |  14  |  12  |  60  |   78 |\n",
       "\n"
      ],
      "text/plain": [
       "                  Antes Después Arauca Barranquilla Bogotá Bucaramanga Cali\n",
       "Family             82    257     5      21           44    20           15 \n",
       "Health            151    514     2      30          112    47           45 \n",
       "Home              128    335     2      32           96    18           29 \n",
       "Negative emotions  44    104     0      11           28     6           21 \n",
       "Positive emotions 870   1060    30     121          321    74          115 \n",
       "Sadness            13    125     3      20            7     4           20 \n",
       "                  Cúcuta Ibagué Medellín ... Sincelejo Tunja Valledupar\n",
       "Family             5     14      28      ... 34        21    15        \n",
       "Health            10     27      69      ... 16        30    18        \n",
       "Home               8      5      25      ... 19        16    21        \n",
       "Negative emotions  6      8      14      ...  5         9    10        \n",
       "Positive emotions 41     54     163      ... 82        75    66        \n",
       "Sadness            3      4      19      ...  4         9    18        \n",
       "                  Villavicencio Derecha_Centro Izquierda_Centro Derecha_Extrema\n",
       "Family             13            79            138               69            \n",
       "Health             53           124            335               79            \n",
       "Home               43            90            206               78            \n",
       "Negative emotions   9            37             80               14            \n",
       "Positive emotions 169           397            848              248            \n",
       "Sadness             4            46             66               14            \n",
       "                  Izquierda_Extrema Derecha Izquierda\n",
       "Family             53               148      191     \n",
       "Health            127               203      462     \n",
       "Home               89               168      295     \n",
       "Negative emotions  17                51       97     \n",
       "Positive emotions 437               645     1285     \n",
       "Sadness            12                60       78     "
      ]
     },
     "metadata": {},
     "output_type": "display_data"
    }
   ],
   "source": [
    "lex_cont_tbl=tabl_lex_alcaldes_agg\n",
    "# lex_cont_tbl=tabl_cont_lex_ideol[,20:45]\n",
    "tail(lex_cont_tbl)"
   ]
  },
  {
   "cell_type": "code",
   "execution_count": 85,
   "metadata": {},
   "outputs": [
    {
     "data": {
      "text/html": [
       "<ol class=list-inline>\n",
       "\t<li>'Antes'</li>\n",
       "\t<li>'Después'</li>\n",
       "\t<li>'Arauca'</li>\n",
       "\t<li>'Barranquilla'</li>\n",
       "\t<li>'Bogotá'</li>\n",
       "\t<li>'Bucaramanga'</li>\n",
       "\t<li>'Cali'</li>\n",
       "\t<li>'Cúcuta'</li>\n",
       "\t<li>'Ibagué'</li>\n",
       "\t<li>'Medellín'</li>\n",
       "\t<li>'Montería'</li>\n",
       "\t<li>'Neiva'</li>\n",
       "\t<li>'Pasto'</li>\n",
       "\t<li>'Popayán'</li>\n",
       "\t<li>'Riohacha'</li>\n",
       "\t<li>'Santa.Marta'</li>\n",
       "\t<li>'Sincelejo'</li>\n",
       "\t<li>'Tunja'</li>\n",
       "\t<li>'Valledupar'</li>\n",
       "\t<li>'Villavicencio'</li>\n",
       "\t<li>'Derecha_Centro'</li>\n",
       "\t<li>'Izquierda_Centro'</li>\n",
       "\t<li>'Derecha_Extrema'</li>\n",
       "\t<li>'Izquierda_Extrema'</li>\n",
       "\t<li>'Derecha'</li>\n",
       "\t<li>'Izquierda'</li>\n",
       "</ol>\n"
      ],
      "text/latex": [
       "\\begin{enumerate*}\n",
       "\\item 'Antes'\n",
       "\\item 'Después'\n",
       "\\item 'Arauca'\n",
       "\\item 'Barranquilla'\n",
       "\\item 'Bogotá'\n",
       "\\item 'Bucaramanga'\n",
       "\\item 'Cali'\n",
       "\\item 'Cúcuta'\n",
       "\\item 'Ibagué'\n",
       "\\item 'Medellín'\n",
       "\\item 'Montería'\n",
       "\\item 'Neiva'\n",
       "\\item 'Pasto'\n",
       "\\item 'Popayán'\n",
       "\\item 'Riohacha'\n",
       "\\item 'Santa.Marta'\n",
       "\\item 'Sincelejo'\n",
       "\\item 'Tunja'\n",
       "\\item 'Valledupar'\n",
       "\\item 'Villavicencio'\n",
       "\\item 'Derecha\\_Centro'\n",
       "\\item 'Izquierda\\_Centro'\n",
       "\\item 'Derecha\\_Extrema'\n",
       "\\item 'Izquierda\\_Extrema'\n",
       "\\item 'Derecha'\n",
       "\\item 'Izquierda'\n",
       "\\end{enumerate*}\n"
      ],
      "text/markdown": [
       "1. 'Antes'\n",
       "2. 'Después'\n",
       "3. 'Arauca'\n",
       "4. 'Barranquilla'\n",
       "5. 'Bogotá'\n",
       "6. 'Bucaramanga'\n",
       "7. 'Cali'\n",
       "8. 'Cúcuta'\n",
       "9. 'Ibagué'\n",
       "10. 'Medellín'\n",
       "11. 'Montería'\n",
       "12. 'Neiva'\n",
       "13. 'Pasto'\n",
       "14. 'Popayán'\n",
       "15. 'Riohacha'\n",
       "16. 'Santa.Marta'\n",
       "17. 'Sincelejo'\n",
       "18. 'Tunja'\n",
       "19. 'Valledupar'\n",
       "20. 'Villavicencio'\n",
       "21. 'Derecha_Centro'\n",
       "22. 'Izquierda_Centro'\n",
       "23. 'Derecha_Extrema'\n",
       "24. 'Izquierda_Extrema'\n",
       "25. 'Derecha'\n",
       "26. 'Izquierda'\n",
       "\n",
       "\n"
      ],
      "text/plain": [
       " [1] \"Antes\"             \"Después\"           \"Arauca\"           \n",
       " [4] \"Barranquilla\"      \"Bogotá\"            \"Bucaramanga\"      \n",
       " [7] \"Cali\"              \"Cúcuta\"            \"Ibagué\"           \n",
       "[10] \"Medellín\"          \"Montería\"          \"Neiva\"            \n",
       "[13] \"Pasto\"             \"Popayán\"           \"Riohacha\"         \n",
       "[16] \"Santa.Marta\"       \"Sincelejo\"         \"Tunja\"            \n",
       "[19] \"Valledupar\"        \"Villavicencio\"     \"Derecha_Centro\"   \n",
       "[22] \"Izquierda_Centro\"  \"Derecha_Extrema\"   \"Izquierda_Extrema\"\n",
       "[25] \"Derecha\"           \"Izquierda\"        "
      ]
     },
     "metadata": {},
     "output_type": "display_data"
    }
   ],
   "source": [
    "colnames(lex_cont_tbl)"
   ]
  },
  {
   "cell_type": "code",
   "execution_count": 86,
   "metadata": {},
   "outputs": [],
   "source": [
    "ca2 = CA(lex_cont_tbl, graph = FALSE)"
   ]
  },
  {
   "cell_type": "code",
   "execution_count": 87,
   "metadata": {},
   "outputs": [
    {
     "name": "stdout",
     "output_type": "stream",
     "text": [
      "\n",
      "Call:\n",
      "CA(X = lex_cont_tbl, graph = FALSE) \n",
      "\n",
      "The chi square of independence between the two variables is equal to 803.172 (p-value =  3.310984e-73 ).\n",
      "\n",
      "Eigenvalues\n",
      "                       Dim.1   Dim.2   Dim.3   Dim.4   Dim.5   Dim.6   Dim.7\n",
      "Variance               0.013   0.006   0.005   0.002   0.002   0.002   0.001\n",
      "% of var.             41.734  18.824  16.109   7.046   6.298   5.457   3.004\n",
      "Cumulative % of var.  41.734  60.559  76.667  83.713  90.010  95.467  98.471\n",
      "                       Dim.8\n",
      "Variance               0.000\n",
      "% of var.              1.529\n",
      "Cumulative % of var. 100.000\n",
      "\n",
      "Rows\n",
      "                    Iner*1000    Dim.1    ctr   cos2    Dim.2    ctr   cos2  \n",
      "Achievements      |     2.809 |  0.058 10.695  0.476 |  0.033  7.604  0.153 |\n",
      "Anger             |     3.029 | -0.038  0.392  0.016 | -0.212 26.772  0.499 |\n",
      "Anxiety           |     1.228 | -0.105  1.620  0.165 | -0.143  6.598  0.303 |\n",
      "Family            |     4.618 | -0.181 13.220  0.358 |  0.123 13.569  0.166 |\n",
      "Health            |     4.355 | -0.148 17.481  0.502 | -0.119 24.812  0.322 |\n",
      "Home              |     2.474 | -0.097  5.195  0.263 | -0.027  0.890  0.020 |\n",
      "Negative emotions |     2.289 | -0.198  6.925  0.378 |  0.008  0.026  0.001 |\n",
      "Positive emotions |     3.135 |  0.082 15.600  0.623 | -0.003  0.046  0.001 |\n",
      "Sadness           |     6.041 | -0.419 28.871  0.598 |  0.232 19.682  0.184 |\n",
      "                   Dim.3    ctr   cos2  \n",
      "Achievements      -0.034  9.795  0.168 |\n",
      "Anger             -0.138 13.355  0.213 |\n",
      "Anxiety            0.032  0.380  0.015 |\n",
      "Family             0.165 28.705  0.300 |\n",
      "Health             0.025  1.312  0.015 |\n",
      "Home               0.089 11.426  0.223 |\n",
      "Negative emotions -0.165 12.434  0.262 |\n",
      "Positive emotions  0.030  5.250  0.081 |\n",
      "Sadness           -0.202 17.343  0.139 |\n",
      "\n",
      "Columns (the 10 first)\n",
      "                    Iner*1000    Dim.1    ctr   cos2    Dim.2    ctr   cos2  \n",
      "Antes             |     5.772 |  0.239 43.874  0.951 |  0.025  1.042  0.010 |\n",
      "Después           |     3.614 | -0.150 27.471  0.951 | -0.015  0.653  0.010 |\n",
      "Arauca            |     0.471 |  0.173  0.735  0.195 |  0.177  1.698  0.204 |\n",
      "Barranquilla      |     1.142 | -0.082  0.786  0.086 |  0.211 11.596  0.573 |\n",
      "Bogotá            |     1.710 |  0.000  0.000  0.000 | -0.172 20.777  0.686 |\n",
      "Bucaramanga       |     1.177 | -0.068  0.460  0.049 | -0.167  6.216  0.298 |\n",
      "Cali              |     1.224 | -0.111  1.743  0.178 |  0.048  0.715  0.033 |\n",
      "Cúcuta            |     0.393 |  0.110  0.563  0.179 |  0.107  1.190  0.171 |\n",
      "Ibagué            |     0.476 | -0.058  0.208  0.055 | -0.001  0.000  0.000 |\n",
      "Medellín          |     0.554 | -0.070  0.835  0.189 | -0.023  0.199  0.020 |\n",
      "                   Dim.3    ctr   cos2  \n",
      "Antes             -0.037  2.693  0.023 |\n",
      "Después            0.023  1.686  0.023 |\n",
      "Arauca            -0.068  0.291  0.030 |\n",
      "Barranquilla      -0.031  0.301  0.013 |\n",
      "Bogotá             0.038  1.165  0.033 |\n",
      "Bucaramanga       -0.066  1.143  0.047 |\n",
      "Cali              -0.188 12.897  0.509 |\n",
      "Cúcuta            -0.161  3.161  0.389 |\n",
      "Ibagué            -0.076  0.954  0.097 |\n",
      "Medellín          -0.084  3.079  0.268 |\n"
     ]
    }
   ],
   "source": [
    "summary(ca2)\n",
    "summary(ca2, nbelements=Inf, file=\"out_CA.txt\")\n",
    "desc_tab=dimdesc(ca2)"
   ]
  },
  {
   "cell_type": "code",
   "execution_count": 83,
   "metadata": {},
   "outputs": [
    {
     "data": {
      "image/png": "[encoded data removed]",
      "text/plain": [
       "plot without title"
      ]
     },
     "metadata": {},
     "output_type": "display_data"
    }
   ],
   "source": [
    "plot(ca2,\n",
    "    shadowtext=TRUE,\n",
    "    unselect=.95,\n",
    "    cex=.8,\n",
    "    selectRow=\"cos2 30\"\n",
    "    )"
   ]
  },
  {
   "cell_type": "code",
   "execution_count": 88,
   "metadata": {},
   "outputs": [
    {
     "data": {
      "image/png": "[encoded data removed]",
      "text/plain": [
       "plot without title"
      ]
     },
     "metadata": {},
     "output_type": "display_data"
    }
   ],
   "source": [
    "plot(ca2,\n",
    "    shadowtext=TRUE,\n",
    "    unselect=.95,\n",
    "    cex=.8,\n",
    "    selectRow=\"contrib 30\"\n",
    "    )"
   ]
  },
  {
   "cell_type": "code",
   "execution_count": 93,
   "metadata": {},
   "outputs": [
    {
     "data": {
      "text/html": [
       "<strong>png:</strong> 2"
      ],
      "text/latex": [
       "\\textbf{png:} 2"
      ],
      "text/markdown": [
       "**png:** 2"
      ],
      "text/plain": [
       "png \n",
       "  2 "
      ]
     },
     "metadata": {},
     "output_type": "display_data"
    }
   ],
   "source": [
    "# pdf(\"ca_alcaldes_top5.pdf\", width = 12, height = 12)\n",
    "pdf(\"ca_alcaldes.pdf\", width = 12, height = 12)\n",
    "\n",
    "plot(ca2,\n",
    "    shadowtext=TRUE,\n",
    "    unselect=.9,\n",
    "    cex=.15,\n",
    "    )\n",
    "dev.off()\n"
   ]
  },
  {
   "cell_type": "code",
   "execution_count": 95,
   "metadata": {},
   "outputs": [
    {
     "data": {
      "text/html": [
       "<strong>png:</strong> 2"
      ],
      "text/latex": [
       "\\textbf{png:} 2"
      ],
      "text/markdown": [
       "**png:** 2"
      ],
      "text/plain": [
       "png \n",
       "  2 "
      ]
     },
     "metadata": {},
     "output_type": "display_data"
    }
   ],
   "source": [
    "# pdf(\"ca_alcaldes_top5_contrib_100.pdf\", width = 12, height = 12)\n",
    "pdf(\"ca_alcaldes_contrib_100.pdf\", width = 12, height = 12)\n",
    "\n",
    "plot(ca2,\n",
    "    shadowtext=TRUE,\n",
    "    unselect=.9,\n",
    "    cex=.25,\n",
    "    selectRow=\"contrib 100\"\n",
    "    )\n",
    "dev.off()\n"
   ]
  },
  {
   "cell_type": "code",
   "execution_count": 96,
   "metadata": {},
   "outputs": [
    {
     "data": {
      "text/html": [
       "<strong>png:</strong> 2"
      ],
      "text/latex": [
       "\\textbf{png:} 2"
      ],
      "text/markdown": [
       "**png:** 2"
      ],
      "text/plain": [
       "png \n",
       "  2 "
      ]
     },
     "metadata": {},
     "output_type": "display_data"
    }
   ],
   "source": [
    "# pdf(\"ca_alcaldes_top5_cos2_100.pdf\", width = 12, height = 12)\n",
    "pdf(\"ca_alcaldes_cos2_100.pdf\", width = 12, height = 12)\n",
    "\n",
    "plot(ca2,\n",
    "    shadowtext=TRUE,\n",
    "    unselect=.95,\n",
    "    cex=.5,\n",
    "    selectRow=\"cos2 100\"\n",
    "    )\n",
    "dev.off()\n"
   ]
  },
  {
   "cell_type": "code",
   "execution_count": 89,
   "metadata": {},
   "outputs": [],
   "source": [
    "coords=rbind(data.frame(ca2$col$coord[,c(1,2,3)]),data.frame(ca2$row$coord[,c(1,2,3)]))\n",
    "colnames(coords)=c(\"x_pos\",\"y_pos\",\"z_pos\")"
   ]
  },
  {
   "cell_type": "code",
   "execution_count": 93,
   "metadata": {},
   "outputs": [],
   "source": [
    "write.csv(lex_cont_tbl, \"lex_cont_tbl_output_R.csv\", fileEncoding =\"UTF-8\")\n",
    "write.csv(coords, \"nodes_coords.csv\", fileEncoding =\"UTF-8\")"
   ]
  },
  {
   "cell_type": "code",
   "execution_count": 94,
   "metadata": {},
   "outputs": [
    {
     "data": {
      "text/html": [
       "<table>\n",
       "<thead><tr><th></th><th scope=col>x_pos</th><th scope=col>y_pos</th><th scope=col>z_pos</th></tr></thead>\n",
       "<tbody>\n",
       "\t<tr><th scope=row>Antes</th><td> 0.2387988380</td><td> 0.024720483 </td><td>-0.0367587459</td></tr>\n",
       "\t<tr><th scope=row>Después</th><td>-0.1495174079</td><td>-0.015478059 </td><td> 0.0230154906</td></tr>\n",
       "\t<tr><th scope=row>Arauca</th><td> 0.1732774793</td><td> 0.176924283 </td><td>-0.0677167436</td></tr>\n",
       "\t<tr><th scope=row>Barranquilla</th><td>-0.0817606542</td><td> 0.210939987 </td><td>-0.0314471081</td></tr>\n",
       "\t<tr><th scope=row>Bogotá</th><td>-0.0002052283</td><td>-0.172148630 </td><td> 0.0377115038</td></tr>\n",
       "\t<tr><th scope=row>Bucaramanga</th><td>-0.0678428085</td><td>-0.167498220 </td><td>-0.0664313026</td></tr>\n",
       "\t<tr><th scope=row>Cali</th><td>-0.1114802167</td><td> 0.047953940 </td><td>-0.1884168700</td></tr>\n",
       "\t<tr><th scope=row>Cúcuta</th><td> 0.1095940194</td><td> 0.107071657 </td><td>-0.1613972889</td></tr>\n",
       "\t<tr><th scope=row>Ibagué</th><td>-0.0575259125</td><td>-0.001242668 </td><td>-0.0764970285</td></tr>\n",
       "\t<tr><th scope=row>Medellín</th><td>-0.0700714244</td><td>-0.022948257 </td><td>-0.0835973244</td></tr>\n",
       "\t<tr><th scope=row>Montería</th><td>-0.0392209386</td><td> 0.022789575 </td><td> 0.0757567481</td></tr>\n",
       "\t<tr><th scope=row>Neiva</th><td> 0.1143999461</td><td>-0.143654310 </td><td> 0.2438090741</td></tr>\n",
       "\t<tr><th scope=row>Pasto</th><td> 0.1461544922</td><td>-0.004836179 </td><td>-0.0116090812</td></tr>\n",
       "\t<tr><th scope=row>Popayán</th><td> 0.0840801674</td><td>-0.003717338 </td><td>-0.0003595967</td></tr>\n",
       "\t<tr><th scope=row>Riohacha</th><td> 0.0594762553</td><td> 0.014328693 </td><td> 0.0636878378</td></tr>\n",
       "\t<tr><th scope=row>Santa.Marta</th><td> 0.1071147959</td><td>-0.020090708 </td><td> 0.1823286645</td></tr>\n",
       "\t<tr><th scope=row>Sincelejo</th><td>-0.0589539725</td><td> 0.207038636 </td><td> 0.2820139564</td></tr>\n",
       "\t<tr><th scope=row>Tunja</th><td>-0.1605179422</td><td> 0.135800858 </td><td> 0.0737723931</td></tr>\n",
       "\t<tr><th scope=row>Valledupar</th><td>-0.1518047484</td><td> 0.164052301 </td><td>-0.2294115924</td></tr>\n",
       "\t<tr><th scope=row>Villavicencio</th><td> 0.1602927491</td><td>-0.022579540 </td><td>-0.0385547305</td></tr>\n",
       "\t<tr><th scope=row>Derecha_Centro</th><td>-0.0242990066</td><td> 0.093250982 </td><td>-0.0570019849</td></tr>\n",
       "\t<tr><th scope=row>Izquierda_Centro</th><td>-0.0431056201</td><td>-0.065600429 </td><td>-0.0334655108</td></tr>\n",
       "\t<tr><th scope=row>Derecha_Extrema</th><td>-0.0154628471</td><td> 0.079032379 </td><td> 0.1327291628</td></tr>\n",
       "\t<tr><th scope=row>Izquierda_Extrema</th><td> 0.1305193152</td><td>-0.006536006 </td><td> 0.0467356821</td></tr>\n",
       "\t<tr><th scope=row>Derecha</th><td>-0.0209179195</td><td> 0.087810345 </td><td> 0.0155971502</td></tr>\n",
       "\t<tr><th scope=row>Izquierda</th><td> 0.0112243665</td><td>-0.047118237 </td><td>-0.0083692898</td></tr>\n",
       "\t<tr><th scope=row>Achievements</th><td> 0.0579705133</td><td> 0.032828072 </td><td>-0.0344666349</td></tr>\n",
       "\t<tr><th scope=row>Anger</th><td>-0.0381158903</td><td>-0.211602297 </td><td>-0.1382504592</td></tr>\n",
       "\t<tr><th scope=row>Anxiety</th><td>-0.1054736445</td><td>-0.142975110 </td><td> 0.0317467138</td></tr>\n",
       "\t<tr><th scope=row>Family</th><td>-0.1807767341</td><td> 0.123000622 </td><td> 0.1654943771</td></tr>\n",
       "\t<tr><th scope=row>Health</th><td>-0.1484186481</td><td>-0.118755784 </td><td> 0.0252589305</td></tr>\n",
       "\t<tr><th scope=row>Home</th><td>-0.0969709029</td><td>-0.026956122 </td><td> 0.0893411977</td></tr>\n",
       "\t<tr><th scope=row>Negative emotions</th><td>-0.1980210713</td><td> 0.008178239 </td><td>-0.1648477428</td></tr>\n",
       "\t<tr><th scope=row>Positive emotions</th><td> 0.0823021933</td><td>-0.002996051 </td><td> 0.0296628998</td></tr>\n",
       "\t<tr><th scope=row>Sadness</th><td>-0.4187119983</td><td> 0.232178852 </td><td>-0.2016135343</td></tr>\n",
       "</tbody>\n",
       "</table>\n"
      ],
      "text/latex": [
       "\\begin{tabular}{r|lll}\n",
       "  & x\\_pos & y\\_pos & z\\_pos\\\\\n",
       "\\hline\n",
       "\tAntes &  0.2387988380 &  0.024720483  & -0.0367587459\\\\\n",
       "\tDespués & -0.1495174079 & -0.015478059  &  0.0230154906\\\\\n",
       "\tArauca &  0.1732774793 &  0.176924283  & -0.0677167436\\\\\n",
       "\tBarranquilla & -0.0817606542 &  0.210939987  & -0.0314471081\\\\\n",
       "\tBogotá & -0.0002052283 & -0.172148630  &  0.0377115038\\\\\n",
       "\tBucaramanga & -0.0678428085 & -0.167498220  & -0.0664313026\\\\\n",
       "\tCali & -0.1114802167 &  0.047953940  & -0.1884168700\\\\\n",
       "\tCúcuta &  0.1095940194 &  0.107071657  & -0.1613972889\\\\\n",
       "\tIbagué & -0.0575259125 & -0.001242668  & -0.0764970285\\\\\n",
       "\tMedellín & -0.0700714244 & -0.022948257  & -0.0835973244\\\\\n",
       "\tMontería & -0.0392209386 &  0.022789575  &  0.0757567481\\\\\n",
       "\tNeiva &  0.1143999461 & -0.143654310  &  0.2438090741\\\\\n",
       "\tPasto &  0.1461544922 & -0.004836179  & -0.0116090812\\\\\n",
       "\tPopayán &  0.0840801674 & -0.003717338  & -0.0003595967\\\\\n",
       "\tRiohacha &  0.0594762553 &  0.014328693  &  0.0636878378\\\\\n",
       "\tSanta.Marta &  0.1071147959 & -0.020090708  &  0.1823286645\\\\\n",
       "\tSincelejo & -0.0589539725 &  0.207038636  &  0.2820139564\\\\\n",
       "\tTunja & -0.1605179422 &  0.135800858  &  0.0737723931\\\\\n",
       "\tValledupar & -0.1518047484 &  0.164052301  & -0.2294115924\\\\\n",
       "\tVillavicencio &  0.1602927491 & -0.022579540  & -0.0385547305\\\\\n",
       "\tDerecha\\_Centro & -0.0242990066 &  0.093250982  & -0.0570019849\\\\\n",
       "\tIzquierda\\_Centro & -0.0431056201 & -0.065600429  & -0.0334655108\\\\\n",
       "\tDerecha\\_Extrema & -0.0154628471 &  0.079032379  &  0.1327291628\\\\\n",
       "\tIzquierda\\_Extrema &  0.1305193152 & -0.006536006  &  0.0467356821\\\\\n",
       "\tDerecha & -0.0209179195 &  0.087810345  &  0.0155971502\\\\\n",
       "\tIzquierda &  0.0112243665 & -0.047118237  & -0.0083692898\\\\\n",
       "\tAchievements &  0.0579705133 &  0.032828072  & -0.0344666349\\\\\n",
       "\tAnger & -0.0381158903 & -0.211602297  & -0.1382504592\\\\\n",
       "\tAnxiety & -0.1054736445 & -0.142975110  &  0.0317467138\\\\\n",
       "\tFamily & -0.1807767341 &  0.123000622  &  0.1654943771\\\\\n",
       "\tHealth & -0.1484186481 & -0.118755784  &  0.0252589305\\\\\n",
       "\tHome & -0.0969709029 & -0.026956122  &  0.0893411977\\\\\n",
       "\tNegative emotions & -0.1980210713 &  0.008178239  & -0.1648477428\\\\\n",
       "\tPositive emotions &  0.0823021933 & -0.002996051  &  0.0296628998\\\\\n",
       "\tSadness & -0.4187119983 &  0.232178852  & -0.2016135343\\\\\n",
       "\\end{tabular}\n"
      ],
      "text/markdown": [
       "\n",
       "| <!--/--> | x_pos | y_pos | z_pos |\n",
       "|---|---|---|---|\n",
       "| Antes |  0.2387988380 |  0.024720483  | -0.0367587459 |\n",
       "| Después | -0.1495174079 | -0.015478059  |  0.0230154906 |\n",
       "| Arauca |  0.1732774793 |  0.176924283  | -0.0677167436 |\n",
       "| Barranquilla | -0.0817606542 |  0.210939987  | -0.0314471081 |\n",
       "| Bogotá | -0.0002052283 | -0.172148630  |  0.0377115038 |\n",
       "| Bucaramanga | -0.0678428085 | -0.167498220  | -0.0664313026 |\n",
       "| Cali | -0.1114802167 |  0.047953940  | -0.1884168700 |\n",
       "| Cúcuta |  0.1095940194 |  0.107071657  | -0.1613972889 |\n",
       "| Ibagué | -0.0575259125 | -0.001242668  | -0.0764970285 |\n",
       "| Medellín | -0.0700714244 | -0.022948257  | -0.0835973244 |\n",
       "| Montería | -0.0392209386 |  0.022789575  |  0.0757567481 |\n",
       "| Neiva |  0.1143999461 | -0.143654310  |  0.2438090741 |\n",
       "| Pasto |  0.1461544922 | -0.004836179  | -0.0116090812 |\n",
       "| Popayán |  0.0840801674 | -0.003717338  | -0.0003595967 |\n",
       "| Riohacha |  0.0594762553 |  0.014328693  |  0.0636878378 |\n",
       "| Santa.Marta |  0.1071147959 | -0.020090708  |  0.1823286645 |\n",
       "| Sincelejo | -0.0589539725 |  0.207038636  |  0.2820139564 |\n",
       "| Tunja | -0.1605179422 |  0.135800858  |  0.0737723931 |\n",
       "| Valledupar | -0.1518047484 |  0.164052301  | -0.2294115924 |\n",
       "| Villavicencio |  0.1602927491 | -0.022579540  | -0.0385547305 |\n",
       "| Derecha_Centro | -0.0242990066 |  0.093250982  | -0.0570019849 |\n",
       "| Izquierda_Centro | -0.0431056201 | -0.065600429  | -0.0334655108 |\n",
       "| Derecha_Extrema | -0.0154628471 |  0.079032379  |  0.1327291628 |\n",
       "| Izquierda_Extrema |  0.1305193152 | -0.006536006  |  0.0467356821 |\n",
       "| Derecha | -0.0209179195 |  0.087810345  |  0.0155971502 |\n",
       "| Izquierda |  0.0112243665 | -0.047118237  | -0.0083692898 |\n",
       "| Achievements |  0.0579705133 |  0.032828072  | -0.0344666349 |\n",
       "| Anger | -0.0381158903 | -0.211602297  | -0.1382504592 |\n",
       "| Anxiety | -0.1054736445 | -0.142975110  |  0.0317467138 |\n",
       "| Family | -0.1807767341 |  0.123000622  |  0.1654943771 |\n",
       "| Health | -0.1484186481 | -0.118755784  |  0.0252589305 |\n",
       "| Home | -0.0969709029 | -0.026956122  |  0.0893411977 |\n",
       "| Negative emotions | -0.1980210713 |  0.008178239  | -0.1648477428 |\n",
       "| Positive emotions |  0.0823021933 | -0.002996051  |  0.0296628998 |\n",
       "| Sadness | -0.4187119983 |  0.232178852  | -0.2016135343 |\n",
       "\n"
      ],
      "text/plain": [
       "                  x_pos         y_pos        z_pos        \n",
       "Antes              0.2387988380  0.024720483 -0.0367587459\n",
       "Después           -0.1495174079 -0.015478059  0.0230154906\n",
       "Arauca             0.1732774793  0.176924283 -0.0677167436\n",
       "Barranquilla      -0.0817606542  0.210939987 -0.0314471081\n",
       "Bogotá            -0.0002052283 -0.172148630  0.0377115038\n",
       "Bucaramanga       -0.0678428085 -0.167498220 -0.0664313026\n",
       "Cali              -0.1114802167  0.047953940 -0.1884168700\n",
       "Cúcuta             0.1095940194  0.107071657 -0.1613972889\n",
       "Ibagué            -0.0575259125 -0.001242668 -0.0764970285\n",
       "Medellín          -0.0700714244 -0.022948257 -0.0835973244\n",
       "Montería          -0.0392209386  0.022789575  0.0757567481\n",
       "Neiva              0.1143999461 -0.143654310  0.2438090741\n",
       "Pasto              0.1461544922 -0.004836179 -0.0116090812\n",
       "Popayán            0.0840801674 -0.003717338 -0.0003595967\n",
       "Riohacha           0.0594762553  0.014328693  0.0636878378\n",
       "Santa.Marta        0.1071147959 -0.020090708  0.1823286645\n",
       "Sincelejo         -0.0589539725  0.207038636  0.2820139564\n",
       "Tunja             -0.1605179422  0.135800858  0.0737723931\n",
       "Valledupar        -0.1518047484  0.164052301 -0.2294115924\n",
       "Villavicencio      0.1602927491 -0.022579540 -0.0385547305\n",
       "Derecha_Centro    -0.0242990066  0.093250982 -0.0570019849\n",
       "Izquierda_Centro  -0.0431056201 -0.065600429 -0.0334655108\n",
       "Derecha_Extrema   -0.0154628471  0.079032379  0.1327291628\n",
       "Izquierda_Extrema  0.1305193152 -0.006536006  0.0467356821\n",
       "Derecha           -0.0209179195  0.087810345  0.0155971502\n",
       "Izquierda          0.0112243665 -0.047118237 -0.0083692898\n",
       "Achievements       0.0579705133  0.032828072 -0.0344666349\n",
       "Anger             -0.0381158903 -0.211602297 -0.1382504592\n",
       "Anxiety           -0.1054736445 -0.142975110  0.0317467138\n",
       "Family            -0.1807767341  0.123000622  0.1654943771\n",
       "Health            -0.1484186481 -0.118755784  0.0252589305\n",
       "Home              -0.0969709029 -0.026956122  0.0893411977\n",
       "Negative emotions -0.1980210713  0.008178239 -0.1648477428\n",
       "Positive emotions  0.0823021933 -0.002996051  0.0296628998\n",
       "Sadness           -0.4187119983  0.232178852 -0.2016135343"
      ]
     },
     "metadata": {},
     "output_type": "display_data"
    }
   ],
   "source": [
    "coords"
   ]
  },
  {
   "cell_type": "code",
   "execution_count": null,
   "metadata": {},
   "outputs": [],
   "source": []
  }
 ],
 "metadata": {
  "kernelspec": {
   "display_name": "R",
   "language": "R",
   "name": "ir"
  },
  "language_info": {
   "codemirror_mode": "r",
   "file_extension": ".r",
   "mimetype": "text/x-r-source",
   "name": "R",
   "pygments_lexer": "r",
   "version": "3.6.1"
  }
 },
 "nbformat": 4,
 "nbformat_minor": 4
}

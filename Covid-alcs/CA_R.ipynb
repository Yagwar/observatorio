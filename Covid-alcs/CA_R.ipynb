{
 "cells": [
  {
   "cell_type": "code",
   "execution_count": 1,
   "metadata": {},
   "outputs": [],
   "source": [
    "# install.packages(\"FactoMineR\", repos=\"https://cloud.r-project.org/\")\n",
    "library(FactoMineR)\n",
    "library(reshape)"
   ]
  },
  {
   "cell_type": "code",
   "execution_count": 2,
   "metadata": {},
   "outputs": [],
   "source": [
    "dat_ansiedad=read.csv(\"ansiedad.csv\",header = FALSE)\n",
    "colnames(dat_ansiedad)=c(\"tw_de\",\"tw_para\",\"freq\")\n",
    "# dat_ansiedad"
   ]
  },
  {
   "cell_type": "code",
   "execution_count": 3,
   "metadata": {},
   "outputs": [],
   "source": [
    "lex_cont_tbl=cast(dat_ansiedad, tw_de ~ tw_para, value=\"freq\")\n",
    "row.names(lex_cont_tbl)=lex_cont_tbl[,1]\n",
    "lex_cont_tbl[,1]=NULL"
   ]
  },
  {
   "cell_type": "code",
   "execution_count": 4,
   "metadata": {},
   "outputs": [
    {
     "data": {
      "text/html": [
       "<table>\n",
       "<thead><tr><th></th><th scope=col>Miedo</th><th scope=col>Preocupación</th><th scope=col>Presión</th><th scope=col>Vulnerable</th><th scope=col>Vulnerables</th></tr></thead>\n",
       "<tbody>\n",
       "\t<tr><th scope=row>Arauca</th><td>0 </td><td>0 </td><td>0 </td><td>0 </td><td> 1</td></tr>\n",
       "\t<tr><th scope=row>Barranquilla</th><td>0 </td><td>0 </td><td>0 </td><td>0 </td><td> 2</td></tr>\n",
       "\t<tr><th scope=row>Bogotá</th><td>7 </td><td>0 </td><td>2 </td><td>0 </td><td>11</td></tr>\n",
       "\t<tr><th scope=row>Bucaramanga</th><td>0 </td><td>0 </td><td>0 </td><td>2 </td><td> 1</td></tr>\n",
       "\t<tr><th scope=row>Cali</th><td>1 </td><td>2 </td><td>1 </td><td>0 </td><td> 1</td></tr>\n",
       "\t<tr><th scope=row>Cúcuta</th><td>0 </td><td>0 </td><td>1 </td><td>0 </td><td> 0</td></tr>\n",
       "\t<tr><th scope=row>Ibagué</th><td>0 </td><td>1 </td><td>0 </td><td>0 </td><td> 2</td></tr>\n",
       "\t<tr><th scope=row>Medellín</th><td>2 </td><td>0 </td><td>0 </td><td>1 </td><td> 3</td></tr>\n",
       "\t<tr><th scope=row>Montería</th><td>0 </td><td>0 </td><td>0 </td><td>1 </td><td> 8</td></tr>\n",
       "\t<tr><th scope=row>Neiva</th><td>0 </td><td>0 </td><td>1 </td><td>0 </td><td> 0</td></tr>\n",
       "\t<tr><th scope=row>Pasto</th><td>1 </td><td>0 </td><td>0 </td><td>0 </td><td> 1</td></tr>\n",
       "\t<tr><th scope=row>Popayán</th><td>1 </td><td>0 </td><td>0 </td><td>0 </td><td> 0</td></tr>\n",
       "\t<tr><th scope=row>Rioacha</th><td>0 </td><td>0 </td><td>0 </td><td>3 </td><td> 1</td></tr>\n",
       "\t<tr><th scope=row>Santa Marta</th><td>0 </td><td>0 </td><td>0 </td><td>1 </td><td>11</td></tr>\n",
       "\t<tr><th scope=row>Sincelejo</th><td>0 </td><td>0 </td><td>0 </td><td>1 </td><td> 1</td></tr>\n",
       "\t<tr><th scope=row>Tunja</th><td>0 </td><td>0 </td><td>0 </td><td>0 </td><td> 0</td></tr>\n",
       "\t<tr><th scope=row>Valledupar</th><td>0 </td><td>1 </td><td>0 </td><td>0 </td><td> 1</td></tr>\n",
       "\t<tr><th scope=row>Villavicencio</th><td>1 </td><td>1 </td><td>0 </td><td>1 </td><td> 2</td></tr>\n",
       "</tbody>\n",
       "</table>\n"
      ],
      "text/latex": [
       "\\begin{tabular}{r|lllll}\n",
       "  & Miedo & Preocupación & Presión & Vulnerable & Vulnerables\\\\\n",
       "\\hline\n",
       "\tArauca & 0  & 0  & 0  & 0  &  1\\\\\n",
       "\tBarranquilla & 0  & 0  & 0  & 0  &  2\\\\\n",
       "\tBogotá & 7  & 0  & 2  & 0  & 11\\\\\n",
       "\tBucaramanga & 0  & 0  & 0  & 2  &  1\\\\\n",
       "\tCali & 1  & 2  & 1  & 0  &  1\\\\\n",
       "\tCúcuta & 0  & 0  & 1  & 0  &  0\\\\\n",
       "\tIbagué & 0  & 1  & 0  & 0  &  2\\\\\n",
       "\tMedellín & 2  & 0  & 0  & 1  &  3\\\\\n",
       "\tMontería & 0  & 0  & 0  & 1  &  8\\\\\n",
       "\tNeiva & 0  & 0  & 1  & 0  &  0\\\\\n",
       "\tPasto & 1  & 0  & 0  & 0  &  1\\\\\n",
       "\tPopayán & 1  & 0  & 0  & 0  &  0\\\\\n",
       "\tRioacha & 0  & 0  & 0  & 3  &  1\\\\\n",
       "\tSanta Marta & 0  & 0  & 0  & 1  & 11\\\\\n",
       "\tSincelejo & 0  & 0  & 0  & 1  &  1\\\\\n",
       "\tTunja & 0  & 0  & 0  & 0  &  0\\\\\n",
       "\tValledupar & 0  & 1  & 0  & 0  &  1\\\\\n",
       "\tVillavicencio & 1  & 1  & 0  & 1  &  2\\\\\n",
       "\\end{tabular}\n"
      ],
      "text/markdown": [
       "\n",
       "| <!--/--> | Miedo | Preocupación | Presión | Vulnerable | Vulnerables |\n",
       "|---|---|---|---|---|---|\n",
       "| Arauca | 0  | 0  | 0  | 0  |  1 |\n",
       "| Barranquilla | 0  | 0  | 0  | 0  |  2 |\n",
       "| Bogotá | 7  | 0  | 2  | 0  | 11 |\n",
       "| Bucaramanga | 0  | 0  | 0  | 2  |  1 |\n",
       "| Cali | 1  | 2  | 1  | 0  |  1 |\n",
       "| Cúcuta | 0  | 0  | 1  | 0  |  0 |\n",
       "| Ibagué | 0  | 1  | 0  | 0  |  2 |\n",
       "| Medellín | 2  | 0  | 0  | 1  |  3 |\n",
       "| Montería | 0  | 0  | 0  | 1  |  8 |\n",
       "| Neiva | 0  | 0  | 1  | 0  |  0 |\n",
       "| Pasto | 1  | 0  | 0  | 0  |  1 |\n",
       "| Popayán | 1  | 0  | 0  | 0  |  0 |\n",
       "| Rioacha | 0  | 0  | 0  | 3  |  1 |\n",
       "| Santa Marta | 0  | 0  | 0  | 1  | 11 |\n",
       "| Sincelejo | 0  | 0  | 0  | 1  |  1 |\n",
       "| Tunja | 0  | 0  | 0  | 0  |  0 |\n",
       "| Valledupar | 0  | 1  | 0  | 0  |  1 |\n",
       "| Villavicencio | 1  | 1  | 0  | 1  |  2 |\n",
       "\n"
      ],
      "text/plain": [
       "              Miedo Preocupación Presión Vulnerable Vulnerables\n",
       "Arauca        0     0            0       0           1         \n",
       "Barranquilla  0     0            0       0           2         \n",
       "Bogotá        7     0            2       0          11         \n",
       "Bucaramanga   0     0            0       2           1         \n",
       "Cali          1     2            1       0           1         \n",
       "Cúcuta        0     0            1       0           0         \n",
       "Ibagué        0     1            0       0           2         \n",
       "Medellín      2     0            0       1           3         \n",
       "Montería      0     0            0       1           8         \n",
       "Neiva         0     0            1       0           0         \n",
       "Pasto         1     0            0       0           1         \n",
       "Popayán       1     0            0       0           0         \n",
       "Rioacha       0     0            0       3           1         \n",
       "Santa Marta   0     0            0       1          11         \n",
       "Sincelejo     0     0            0       1           1         \n",
       "Tunja         0     0            0       0           0         \n",
       "Valledupar    0     1            0       0           1         \n",
       "Villavicencio 1     1            0       1           2         "
      ]
     },
     "metadata": {},
     "output_type": "display_data"
    }
   ],
   "source": [
    "lex_cont_tbl"
   ]
  },
  {
   "cell_type": "code",
   "execution_count": 5,
   "metadata": {},
   "outputs": [
    {
     "name": "stderr",
     "output_type": "stream",
     "text": [
      "Warning message in CA(lex_cont_tbl, graph = FALSE):\n",
      "\"The rows Tunja sum at 0. They were suppressed from the analysis\""
     ]
    }
   ],
   "source": [
    "ca2 = CA(lex_cont_tbl, graph = FALSE)"
   ]
  },
  {
   "cell_type": "code",
   "execution_count": 6,
   "metadata": {},
   "outputs": [
    {
     "name": "stdout",
     "output_type": "stream",
     "text": [
      "\n",
      "Call:\n",
      "CA(X = lex_cont_tbl, graph = FALSE) \n",
      "\n",
      "The chi square of independence between the two variables is equal to 110.2969 (p-value =  0.0002891261 ).\n",
      "\n",
      "Eigenvalues\n",
      "                       Dim.1   Dim.2   Dim.3   Dim.4\n",
      "Variance               0.515   0.348   0.312   0.221\n",
      "% of var.             36.902  24.938  22.321  15.840\n",
      "Cumulative % of var.  36.902  61.840  84.160 100.000\n",
      "\n",
      "Rows (the 10 first)\n",
      "                Iner*1000     Dim.1     ctr    cos2     Dim.2     ctr    cos2  \n",
      "Arauca        |     9.081 |  -0.267   0.175   0.099 |  -0.380   0.525   0.201 |\n",
      "Barranquilla  |    18.162 |  -0.267   0.349   0.099 |  -0.380   1.050   0.201 |\n",
      "Bogotá        |   106.819 |   0.346   5.895   0.284 |  -0.260   4.921   0.160 |\n",
      "Bucaramanga   |   102.605 |  -1.072   8.463   0.425 |   1.188  15.389   0.522 |\n",
      "Cali          |   156.441 |   1.044  13.402   0.441 |  -0.045   0.037   0.001 |\n",
      "Cúcuta        |   187.342 |   3.016  22.347   0.615 |   2.182  17.309   0.322 |\n",
      "Ibagué        |    57.677 |   0.143   0.151   0.014 |  -0.463   2.337   0.141 |\n",
      "Medellín      |    24.608 |  -0.197   0.570   0.119 |  -0.118   0.303   0.043 |\n",
      "Montería      |    51.776 |  -0.401   3.552   0.353 |  -0.119   0.461   0.031 |\n",
      "Neiva         |   187.342 |   3.016  22.347   0.615 |   2.182  17.309   0.322 |\n",
      "                Dim.3     ctr    cos2  \n",
      "Arauca         -0.177   0.127   0.044 |\n",
      "Barranquilla   -0.177   0.254   0.044 |\n",
      "Bogotá         -0.439  15.672   0.457 |\n",
      "Bucaramanga     0.168   0.345   0.010 |\n",
      "Cali            1.140  26.384   0.526 |\n",
      "Cúcuta         -0.591   1.421   0.024 |\n",
      "Ibagué          1.095  14.603   0.789 |\n",
      "Medellín       -0.301   2.208   0.280 |\n",
      "Montería       -0.119   0.520   0.031 |\n",
      "Neiva          -0.591   1.421   0.024 |\n",
      "\n",
      "Columns\n",
      "                Iner*1000     Dim.1     ctr    cos2     Dim.2     ctr    cos2  \n",
      "Miedo         |   221.340 |   0.393   4.923   0.115 |  -0.454   9.748   0.153 |\n",
      "Preocupación  |   303.376 |   0.691   5.871   0.100 |  -0.371   2.503   0.029 |\n",
      "Presión       |   416.709 |   2.165  57.566   0.712 |   1.288  30.133   0.252 |\n",
      "Vulnerable    |   337.862 |  -1.058  27.500   0.419 |   1.163  49.211   0.507 |\n",
      "Vulnerables   |   116.876 |  -0.191   4.140   0.183 |  -0.224   8.405   0.250 |\n",
      "                Dim.3     ctr    cos2  \n",
      "Miedo          -0.451  10.748   0.151 |\n",
      "Preocupación    2.031  83.750   0.860 |\n",
      "Presión        -0.330   2.214   0.017 |\n",
      "Vulnerable      0.190   1.468   0.014 |\n",
      "Vulnerables    -0.099   1.819   0.049 |\n"
     ]
    }
   ],
   "source": [
    "summary(ca2)\n",
    "summary(ca2, nbelements=Inf, file=\"out_CA.txt\")\n",
    "desc_tab=dimdesc(ca2)"
   ]
  },
  {
   "cell_type": "code",
   "execution_count": 7,
   "metadata": {},
   "outputs": [
    {
     "data": {
      "image/png": "[encoded data removed]",
      "text/plain": [
       "plot without title"
      ]
     },
     "metadata": {},
     "output_type": "display_data"
    }
   ],
   "source": [
    "plot(ca2,\n",
    "    shadowtext=TRUE,\n",
    "    unselect=.95,\n",
    "    cex=.8,\n",
    "    selectRow=\"contrib 25\"\n",
    "    )"
   ]
  },
  {
   "cell_type": "code",
   "execution_count": 8,
   "metadata": {},
   "outputs": [],
   "source": [
    "coords=rbind(data.frame(ca2$col$coord[,c(1,2)]),data.frame(ca2$row$coord[,c(1,2)]))\n",
    "colnames(coords)=c(\"x_pos\",\"y_pos\")"
   ]
  },
  {
   "cell_type": "code",
   "execution_count": 9,
   "metadata": {},
   "outputs": [],
   "source": [
    "write.csv(coords, \"nodes_coords.csv\", fileEncoding =\"UTF-8\")"
   ]
  },
  {
   "cell_type": "code",
   "execution_count": 10,
   "metadata": {},
   "outputs": [
    {
     "data": {
      "text/html": [
       "<table>\n",
       "<thead><tr><th></th><th scope=col>x_pos</th><th scope=col>y_pos</th></tr></thead>\n",
       "<tbody>\n",
       "\t<tr><th scope=row>Miedo</th><td> 0.39260086</td><td>-0.45414042</td></tr>\n",
       "\t<tr><th scope=row>Preocupación</th><td> 0.69131567</td><td>-0.37108380</td></tr>\n",
       "\t<tr><th scope=row>Presión</th><td> 2.16471202</td><td> 1.28751393</td></tr>\n",
       "\t<tr><th scope=row>Vulnerable</th><td>-1.05796375</td><td> 1.16344226</td></tr>\n",
       "\t<tr><th scope=row>Vulnerables</th><td>-0.19139809</td><td>-0.22419017</td></tr>\n",
       "\t<tr><th scope=row>Arauca</th><td>-0.26665352</td><td>-0.37994025</td></tr>\n",
       "\t<tr><th scope=row>Barranquilla</th><td>-0.26665352</td><td>-0.37994025</td></tr>\n",
       "\t<tr><th scope=row>Bogotá</th><td> 0.34636403</td><td>-0.26014397</td></tr>\n",
       "\t<tr><th scope=row>Bucaramanga</th><td>-1.07151279</td><td> 1.18782820</td></tr>\n",
       "\t<tr><th scope=row>Cali</th><td> 1.04448590</td><td>-0.04507430</td></tr>\n",
       "\t<tr><th scope=row>Cúcuta</th><td> 3.01585082</td><td> 2.18197954</td></tr>\n",
       "\t<tr><th scope=row>Ibagué</th><td> 0.14327522</td><td>-0.46292159</td></tr>\n",
       "\t<tr><th scope=row>Medellín</th><td>-0.19666156</td><td>-0.11789880</td></tr>\n",
       "\t<tr><th scope=row>Montería</th><td>-0.40079673</td><td>-0.11864551</td></tr>\n",
       "\t<tr><th scope=row>Neiva</th><td> 3.01585082</td><td> 2.18197954</td></tr>\n",
       "\t<tr><th scope=row>Pasto</th><td> 0.14015664</td><td>-0.57479124</td></tr>\n",
       "\t<tr><th scope=row>Popayán</th><td> 0.54696681</td><td>-0.76964224</td></tr>\n",
       "\t<tr><th scope=row>Rioacha</th><td>-1.17212019</td><td> 1.38379925</td></tr>\n",
       "\t<tr><th scope=row>Santa Marta</th><td>-0.36726093</td><td>-0.18396919</td></tr>\n",
       "\t<tr><th scope=row>Sincelejo</th><td>-0.87029797</td><td> 0.79588609</td></tr>\n",
       "\t<tr><th scope=row>Valledupar</th><td> 0.34823959</td><td>-0.50441226</td></tr>\n",
       "\t<tr><th scope=row>Villavicencio</th><td>-0.09942999</td><td>-0.03733892</td></tr>\n",
       "</tbody>\n",
       "</table>\n"
      ],
      "text/latex": [
       "\\begin{tabular}{r|ll}\n",
       "  & x\\_pos & y\\_pos\\\\\n",
       "\\hline\n",
       "\tMiedo &  0.39260086 & -0.45414042\\\\\n",
       "\tPreocupación &  0.69131567 & -0.37108380\\\\\n",
       "\tPresión &  2.16471202 &  1.28751393\\\\\n",
       "\tVulnerable & -1.05796375 &  1.16344226\\\\\n",
       "\tVulnerables & -0.19139809 & -0.22419017\\\\\n",
       "\tArauca & -0.26665352 & -0.37994025\\\\\n",
       "\tBarranquilla & -0.26665352 & -0.37994025\\\\\n",
       "\tBogotá &  0.34636403 & -0.26014397\\\\\n",
       "\tBucaramanga & -1.07151279 &  1.18782820\\\\\n",
       "\tCali &  1.04448590 & -0.04507430\\\\\n",
       "\tCúcuta &  3.01585082 &  2.18197954\\\\\n",
       "\tIbagué &  0.14327522 & -0.46292159\\\\\n",
       "\tMedellín & -0.19666156 & -0.11789880\\\\\n",
       "\tMontería & -0.40079673 & -0.11864551\\\\\n",
       "\tNeiva &  3.01585082 &  2.18197954\\\\\n",
       "\tPasto &  0.14015664 & -0.57479124\\\\\n",
       "\tPopayán &  0.54696681 & -0.76964224\\\\\n",
       "\tRioacha & -1.17212019 &  1.38379925\\\\\n",
       "\tSanta Marta & -0.36726093 & -0.18396919\\\\\n",
       "\tSincelejo & -0.87029797 &  0.79588609\\\\\n",
       "\tValledupar &  0.34823959 & -0.50441226\\\\\n",
       "\tVillavicencio & -0.09942999 & -0.03733892\\\\\n",
       "\\end{tabular}\n"
      ],
      "text/markdown": [
       "\n",
       "| <!--/--> | x_pos | y_pos |\n",
       "|---|---|---|\n",
       "| Miedo |  0.39260086 | -0.45414042 |\n",
       "| Preocupación |  0.69131567 | -0.37108380 |\n",
       "| Presión |  2.16471202 |  1.28751393 |\n",
       "| Vulnerable | -1.05796375 |  1.16344226 |\n",
       "| Vulnerables | -0.19139809 | -0.22419017 |\n",
       "| Arauca | -0.26665352 | -0.37994025 |\n",
       "| Barranquilla | -0.26665352 | -0.37994025 |\n",
       "| Bogotá |  0.34636403 | -0.26014397 |\n",
       "| Bucaramanga | -1.07151279 |  1.18782820 |\n",
       "| Cali |  1.04448590 | -0.04507430 |\n",
       "| Cúcuta |  3.01585082 |  2.18197954 |\n",
       "| Ibagué |  0.14327522 | -0.46292159 |\n",
       "| Medellín | -0.19666156 | -0.11789880 |\n",
       "| Montería | -0.40079673 | -0.11864551 |\n",
       "| Neiva |  3.01585082 |  2.18197954 |\n",
       "| Pasto |  0.14015664 | -0.57479124 |\n",
       "| Popayán |  0.54696681 | -0.76964224 |\n",
       "| Rioacha | -1.17212019 |  1.38379925 |\n",
       "| Santa Marta | -0.36726093 | -0.18396919 |\n",
       "| Sincelejo | -0.87029797 |  0.79588609 |\n",
       "| Valledupar |  0.34823959 | -0.50441226 |\n",
       "| Villavicencio | -0.09942999 | -0.03733892 |\n",
       "\n"
      ],
      "text/plain": [
       "              x_pos       y_pos      \n",
       "Miedo          0.39260086 -0.45414042\n",
       "Preocupación   0.69131567 -0.37108380\n",
       "Presión        2.16471202  1.28751393\n",
       "Vulnerable    -1.05796375  1.16344226\n",
       "Vulnerables   -0.19139809 -0.22419017\n",
       "Arauca        -0.26665352 -0.37994025\n",
       "Barranquilla  -0.26665352 -0.37994025\n",
       "Bogotá         0.34636403 -0.26014397\n",
       "Bucaramanga   -1.07151279  1.18782820\n",
       "Cali           1.04448590 -0.04507430\n",
       "Cúcuta         3.01585082  2.18197954\n",
       "Ibagué         0.14327522 -0.46292159\n",
       "Medellín      -0.19666156 -0.11789880\n",
       "Montería      -0.40079673 -0.11864551\n",
       "Neiva          3.01585082  2.18197954\n",
       "Pasto          0.14015664 -0.57479124\n",
       "Popayán        0.54696681 -0.76964224\n",
       "Rioacha       -1.17212019  1.38379925\n",
       "Santa Marta   -0.36726093 -0.18396919\n",
       "Sincelejo     -0.87029797  0.79588609\n",
       "Valledupar     0.34823959 -0.50441226\n",
       "Villavicencio -0.09942999 -0.03733892"
      ]
     },
     "metadata": {},
     "output_type": "display_data"
    }
   ],
   "source": [
    "coords"
   ]
  }
 ],
 "metadata": {
  "kernelspec": {
   "display_name": "R",
   "language": "R",
   "name": "ir"
  },
  "language_info": {
   "codemirror_mode": "r",
   "file_extension": ".r",
   "mimetype": "text/x-r-source",
   "name": "R",
   "pygments_lexer": "r",
   "version": "3.6.3"
  }
 },
 "nbformat": 4,
 "nbformat_minor": 4
}

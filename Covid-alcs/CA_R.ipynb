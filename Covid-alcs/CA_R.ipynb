{
 "cells": [
  {
   "cell_type": "code",
   "execution_count": 1,
   "metadata": {},
   "outputs": [
    {
     "name": "stderr",
     "output_type": "stream",
     "text": [
      "Warning message:\n",
      "\"package 'FactoMineR' was built under R version 3.6.3\"Warning message:\n",
      "\"package 'reshape' was built under R version 3.6.3\""
     ]
    },
    {
     "data": {
      "text/html": [
       "'R version 3.6.1 (2019-07-05)'"
      ],
      "text/latex": [
       "'R version 3.6.1 (2019-07-05)'"
      ],
      "text/markdown": [
       "'R version 3.6.1 (2019-07-05)'"
      ],
      "text/plain": [
       "[1] \"R version 3.6.1 (2019-07-05)\""
      ]
     },
     "metadata": {},
     "output_type": "display_data"
    }
   ],
   "source": [
    "# install.packages(\"FactoMineR\", repos=\"https://cloud.r-project.org/\")\n",
    "library(FactoMineR)\n",
    "library(reshape)\n",
    "R.Version()$version.string"
   ]
  },
  {
   "cell_type": "code",
   "execution_count": 2,
   "metadata": {},
   "outputs": [],
   "source": [
    "tabl_cont_lex_large=read.csv(\"tabl_lex_alcaldes_ideologia.csv\")\n",
    "tabl_cont_lex_categorias=read.csv(\"tabl_lex_alcaldes_categorias.csv\", row.names=1)\n",
    "tabl_cont_lex_ideol=tabl_cont_lex_large[tabl_cont_lex_large$termino %in% rownames(tabl_cont_lex_categorias),]\n",
    "rownames(tabl_cont_lex_ideol)=tabl_cont_lex_ideol$termino\n",
    "tabl_cont_lex_ideol$Category=tabl_cont_lex_categorias$Category"
   ]
  },
  {
   "cell_type": "code",
   "execution_count": 3,
   "metadata": {},
   "outputs": [],
   "source": [
    "columns_MCA=c(\n",
    "    'Antes','Después',\n",
    "    'Arauca','Barranquilla','Bogotá','Bucaramanga','Cali','Cúcuta','Ibagué','Medellín','Montería','Neiva','Pasto','Popayán','Riohacha','Santa.Marta','Sincelejo','Tunja','Valledupar','Villavicencio',\n",
    "#     'Derecha_Centro','Izquierda_Centro','Derecha_Extrema','Izquierda_Extrema',\n",
    "    'Derecha','Izquierda'\n",
    ")"
   ]
  },
  {
   "cell_type": "code",
   "execution_count": 4,
   "metadata": {},
   "outputs": [],
   "source": [
    "tabl_lex_alcaldes_agg=aggregate(. ~ Category, tabl_cont_lex_ideol[,c(columns_MCA,\"Category\")], sum)\n",
    "rownames(tabl_lex_alcaldes_agg)=tabl_lex_alcaldes_agg$Category\n",
    "tabl_lex_alcaldes_agg=subset(tabl_lex_alcaldes_agg, select = -c(Category) )"
   ]
  },
  {
   "cell_type": "code",
   "execution_count": 5,
   "metadata": {},
   "outputs": [
    {
     "data": {
      "text/html": [
       "<table>\n",
       "<thead><tr><th></th><th scope=col>Antes</th><th scope=col>Después</th><th scope=col>Arauca</th><th scope=col>Barranquilla</th><th scope=col>Bogotá</th><th scope=col>Bucaramanga</th><th scope=col>Cali</th><th scope=col>Cúcuta</th><th scope=col>Ibagué</th><th scope=col>Medellín</th><th scope=col>...</th><th scope=col>Pasto</th><th scope=col>Popayán</th><th scope=col>Riohacha</th><th scope=col>Santa.Marta</th><th scope=col>Sincelejo</th><th scope=col>Tunja</th><th scope=col>Valledupar</th><th scope=col>Villavicencio</th><th scope=col>Derecha</th><th scope=col>Izquierda</th></tr></thead>\n",
       "<tbody>\n",
       "\t<tr><th scope=row>Family</th><td> 82 </td><td> 257</td><td> 5  </td><td> 21 </td><td> 44 </td><td>20  </td><td> 15 </td><td> 5  </td><td>14  </td><td> 28 </td><td>... </td><td> 9  </td><td> 10 </td><td>20  </td><td> 35 </td><td>34  </td><td>21  </td><td>15  </td><td> 13 </td><td>148 </td><td> 191</td></tr>\n",
       "\t<tr><th scope=row>Health</th><td>151 </td><td> 514</td><td> 2  </td><td> 30 </td><td>112 </td><td>47  </td><td> 45 </td><td>10  </td><td>27  </td><td> 69 </td><td>... </td><td>28  </td><td> 32 </td><td>21  </td><td> 64 </td><td>16  </td><td>30  </td><td>18  </td><td> 53 </td><td>203 </td><td> 462</td></tr>\n",
       "\t<tr><th scope=row>Home</th><td>128 </td><td> 335</td><td> 2  </td><td> 32 </td><td> 96 </td><td>18  </td><td> 29 </td><td> 8  </td><td> 5  </td><td> 25 </td><td>... </td><td>14  </td><td> 22 </td><td>18  </td><td> 38 </td><td>19  </td><td>16  </td><td>21  </td><td> 43 </td><td>168 </td><td> 295</td></tr>\n",
       "\t<tr><th scope=row>Negative emotions</th><td> 44 </td><td> 104</td><td> 0  </td><td> 11 </td><td> 28 </td><td> 6  </td><td> 21 </td><td> 6  </td><td> 8  </td><td> 14 </td><td>... </td><td> 0  </td><td>  2 </td><td> 8  </td><td>  2 </td><td> 5  </td><td> 9  </td><td>10  </td><td>  9 </td><td> 51 </td><td>  97</td></tr>\n",
       "\t<tr><th scope=row>Positive emotions</th><td>870 </td><td>1060</td><td>30  </td><td>121 </td><td>321 </td><td>74  </td><td>115 </td><td>41  </td><td>54  </td><td>163 </td><td>... </td><td>74  </td><td>100 </td><td>82  </td><td>227 </td><td>82  </td><td>75  </td><td>66  </td><td>169 </td><td>645 </td><td>1285</td></tr>\n",
       "\t<tr><th scope=row>Sadness</th><td> 13 </td><td> 125</td><td> 3  </td><td> 20 </td><td>  7 </td><td> 4  </td><td> 20 </td><td> 3  </td><td> 4  </td><td> 19 </td><td>... </td><td> 3  </td><td>  7 </td><td> 1  </td><td>  5 </td><td> 4  </td><td> 9  </td><td>18  </td><td>  4 </td><td> 60 </td><td>  78</td></tr>\n",
       "</tbody>\n",
       "</table>\n"
      ],
      "text/latex": [
       "\\begin{tabular}{r|llllllllllllllllllllll}\n",
       "  & Antes & Después & Arauca & Barranquilla & Bogotá & Bucaramanga & Cali & Cúcuta & Ibagué & Medellín & ... & Pasto & Popayán & Riohacha & Santa.Marta & Sincelejo & Tunja & Valledupar & Villavicencio & Derecha & Izquierda\\\\\n",
       "\\hline\n",
       "\tFamily &  82  &  257 &  5   &  21  &  44  & 20   &  15  &  5   & 14   &  28  & ...  &  9   &  10  & 20   &  35  & 34   & 21   & 15   &  13  & 148  &  191\\\\\n",
       "\tHealth & 151  &  514 &  2   &  30  & 112  & 47   &  45  & 10   & 27   &  69  & ...  & 28   &  32  & 21   &  64  & 16   & 30   & 18   &  53  & 203  &  462\\\\\n",
       "\tHome & 128  &  335 &  2   &  32  &  96  & 18   &  29  &  8   &  5   &  25  & ...  & 14   &  22  & 18   &  38  & 19   & 16   & 21   &  43  & 168  &  295\\\\\n",
       "\tNegative emotions &  44  &  104 &  0   &  11  &  28  &  6   &  21  &  6   &  8   &  14  & ...  &  0   &   2  &  8   &   2  &  5   &  9   & 10   &   9  &  51  &   97\\\\\n",
       "\tPositive emotions & 870  & 1060 & 30   & 121  & 321  & 74   & 115  & 41   & 54   & 163  & ...  & 74   & 100  & 82   & 227  & 82   & 75   & 66   & 169  & 645  & 1285\\\\\n",
       "\tSadness &  13  &  125 &  3   &  20  &   7  &  4   &  20  &  3   &  4   &  19  & ...  &  3   &   7  &  1   &   5  &  4   &  9   & 18   &   4  &  60  &   78\\\\\n",
       "\\end{tabular}\n"
      ],
      "text/markdown": [
       "\n",
       "| <!--/--> | Antes | Después | Arauca | Barranquilla | Bogotá | Bucaramanga | Cali | Cúcuta | Ibagué | Medellín | ... | Pasto | Popayán | Riohacha | Santa.Marta | Sincelejo | Tunja | Valledupar | Villavicencio | Derecha | Izquierda |\n",
       "|---|---|---|---|---|---|---|---|---|---|---|---|---|---|---|---|---|---|---|---|---|---|\n",
       "| Family |  82  |  257 |  5   |  21  |  44  | 20   |  15  |  5   | 14   |  28  | ...  |  9   |  10  | 20   |  35  | 34   | 21   | 15   |  13  | 148  |  191 |\n",
       "| Health | 151  |  514 |  2   |  30  | 112  | 47   |  45  | 10   | 27   |  69  | ...  | 28   |  32  | 21   |  64  | 16   | 30   | 18   |  53  | 203  |  462 |\n",
       "| Home | 128  |  335 |  2   |  32  |  96  | 18   |  29  |  8   |  5   |  25  | ...  | 14   |  22  | 18   |  38  | 19   | 16   | 21   |  43  | 168  |  295 |\n",
       "| Negative emotions |  44  |  104 |  0   |  11  |  28  |  6   |  21  |  6   |  8   |  14  | ...  |  0   |   2  |  8   |   2  |  5   |  9   | 10   |   9  |  51  |   97 |\n",
       "| Positive emotions | 870  | 1060 | 30   | 121  | 321  | 74   | 115  | 41   | 54   | 163  | ...  | 74   | 100  | 82   | 227  | 82   | 75   | 66   | 169  | 645  | 1285 |\n",
       "| Sadness |  13  |  125 |  3   |  20  |   7  |  4   |  20  |  3   |  4   |  19  | ...  |  3   |   7  |  1   |   5  |  4   |  9   | 18   |   4  |  60  |   78 |\n",
       "\n"
      ],
      "text/plain": [
       "                  Antes Después Arauca Barranquilla Bogotá Bucaramanga Cali\n",
       "Family             82    257     5      21           44    20           15 \n",
       "Health            151    514     2      30          112    47           45 \n",
       "Home              128    335     2      32           96    18           29 \n",
       "Negative emotions  44    104     0      11           28     6           21 \n",
       "Positive emotions 870   1060    30     121          321    74          115 \n",
       "Sadness            13    125     3      20            7     4           20 \n",
       "                  Cúcuta Ibagué Medellín ... Pasto Popayán Riohacha Santa.Marta\n",
       "Family             5     14      28      ...  9     10     20        35        \n",
       "Health            10     27      69      ... 28     32     21        64        \n",
       "Home               8      5      25      ... 14     22     18        38        \n",
       "Negative emotions  6      8      14      ...  0      2      8         2        \n",
       "Positive emotions 41     54     163      ... 74    100     82       227        \n",
       "Sadness            3      4      19      ...  3      7      1         5        \n",
       "                  Sincelejo Tunja Valledupar Villavicencio Derecha Izquierda\n",
       "Family            34        21    15          13           148      191     \n",
       "Health            16        30    18          53           203      462     \n",
       "Home              19        16    21          43           168      295     \n",
       "Negative emotions  5         9    10           9            51       97     \n",
       "Positive emotions 82        75    66         169           645     1285     \n",
       "Sadness            4         9    18           4            60       78     "
      ]
     },
     "metadata": {},
     "output_type": "display_data"
    }
   ],
   "source": [
    "lex_cont_tbl=tabl_lex_alcaldes_agg\n",
    "# lex_cont_tbl=tabl_cont_lex_ideol[,columns_MCA]\n",
    "tail(lex_cont_tbl)"
   ]
  },
  {
   "cell_type": "code",
   "execution_count": 6,
   "metadata": {},
   "outputs": [
    {
     "data": {
      "text/html": [
       "<ol class=list-inline>\n",
       "\t<li>'Antes'</li>\n",
       "\t<li>'Después'</li>\n",
       "\t<li>'Arauca'</li>\n",
       "\t<li>'Barranquilla'</li>\n",
       "\t<li>'Bogotá'</li>\n",
       "\t<li>'Bucaramanga'</li>\n",
       "\t<li>'Cali'</li>\n",
       "\t<li>'Cúcuta'</li>\n",
       "\t<li>'Ibagué'</li>\n",
       "\t<li>'Medellín'</li>\n",
       "\t<li>'Montería'</li>\n",
       "\t<li>'Neiva'</li>\n",
       "\t<li>'Pasto'</li>\n",
       "\t<li>'Popayán'</li>\n",
       "\t<li>'Riohacha'</li>\n",
       "\t<li>'Santa.Marta'</li>\n",
       "\t<li>'Sincelejo'</li>\n",
       "\t<li>'Tunja'</li>\n",
       "\t<li>'Valledupar'</li>\n",
       "\t<li>'Villavicencio'</li>\n",
       "\t<li>'Derecha'</li>\n",
       "\t<li>'Izquierda'</li>\n",
       "</ol>\n"
      ],
      "text/latex": [
       "\\begin{enumerate*}\n",
       "\\item 'Antes'\n",
       "\\item 'Después'\n",
       "\\item 'Arauca'\n",
       "\\item 'Barranquilla'\n",
       "\\item 'Bogotá'\n",
       "\\item 'Bucaramanga'\n",
       "\\item 'Cali'\n",
       "\\item 'Cúcuta'\n",
       "\\item 'Ibagué'\n",
       "\\item 'Medellín'\n",
       "\\item 'Montería'\n",
       "\\item 'Neiva'\n",
       "\\item 'Pasto'\n",
       "\\item 'Popayán'\n",
       "\\item 'Riohacha'\n",
       "\\item 'Santa.Marta'\n",
       "\\item 'Sincelejo'\n",
       "\\item 'Tunja'\n",
       "\\item 'Valledupar'\n",
       "\\item 'Villavicencio'\n",
       "\\item 'Derecha'\n",
       "\\item 'Izquierda'\n",
       "\\end{enumerate*}\n"
      ],
      "text/markdown": [
       "1. 'Antes'\n",
       "2. 'Después'\n",
       "3. 'Arauca'\n",
       "4. 'Barranquilla'\n",
       "5. 'Bogotá'\n",
       "6. 'Bucaramanga'\n",
       "7. 'Cali'\n",
       "8. 'Cúcuta'\n",
       "9. 'Ibagué'\n",
       "10. 'Medellín'\n",
       "11. 'Montería'\n",
       "12. 'Neiva'\n",
       "13. 'Pasto'\n",
       "14. 'Popayán'\n",
       "15. 'Riohacha'\n",
       "16. 'Santa.Marta'\n",
       "17. 'Sincelejo'\n",
       "18. 'Tunja'\n",
       "19. 'Valledupar'\n",
       "20. 'Villavicencio'\n",
       "21. 'Derecha'\n",
       "22. 'Izquierda'\n",
       "\n",
       "\n"
      ],
      "text/plain": [
       " [1] \"Antes\"         \"Después\"       \"Arauca\"        \"Barranquilla\" \n",
       " [5] \"Bogotá\"        \"Bucaramanga\"   \"Cali\"          \"Cúcuta\"       \n",
       " [9] \"Ibagué\"        \"Medellín\"      \"Montería\"      \"Neiva\"        \n",
       "[13] \"Pasto\"         \"Popayán\"       \"Riohacha\"      \"Santa.Marta\"  \n",
       "[17] \"Sincelejo\"     \"Tunja\"         \"Valledupar\"    \"Villavicencio\"\n",
       "[21] \"Derecha\"       \"Izquierda\"    "
      ]
     },
     "metadata": {},
     "output_type": "display_data"
    }
   ],
   "source": [
    "colnames(lex_cont_tbl)"
   ]
  },
  {
   "cell_type": "code",
   "execution_count": 7,
   "metadata": {},
   "outputs": [],
   "source": [
    "ca2 = CA(lex_cont_tbl, graph = FALSE)"
   ]
  },
  {
   "cell_type": "code",
   "execution_count": 8,
   "metadata": {},
   "outputs": [
    {
     "name": "stdout",
     "output_type": "stream",
     "text": [
      "\n",
      "Call:\n",
      "CA(X = lex_cont_tbl, graph = FALSE) \n",
      "\n",
      "The chi square of independence between the two variables is equal to 704.2503 (p-value =  9.332269e-67 ).\n",
      "\n",
      "Eigenvalues\n",
      "                       Dim.1   Dim.2   Dim.3   Dim.4   Dim.5   Dim.6   Dim.7\n",
      "Variance               0.015   0.006   0.005   0.003   0.002   0.002   0.001\n",
      "% of var.             43.564  17.522  14.446   7.483   6.253   5.863   3.274\n",
      "Cumulative % of var.  43.564  61.086  75.533  83.015  89.268  95.131  98.405\n",
      "                       Dim.8\n",
      "Variance               0.001\n",
      "% of var.              1.595\n",
      "Cumulative % of var. 100.000\n",
      "\n",
      "Rows\n",
      "                    Iner*1000    Dim.1    ctr   cos2    Dim.2    ctr   cos2  \n",
      "Achievements      |     3.399 |  0.065 11.087  0.498 |  0.041 10.848  0.196 |\n",
      "Anger             |     3.024 | -0.002  0.001  0.000 | -0.163 14.621  0.297 |\n",
      "Anxiety           |     1.525 | -0.125  1.865  0.187 | -0.146  6.308  0.254 |\n",
      "Family            |     5.270 | -0.207 14.179  0.411 |  0.056  2.558  0.030 |\n",
      "Health            |     5.358 | -0.172 19.264  0.549 | -0.125 25.352  0.291 |\n",
      "Home              |     3.027 | -0.117  6.169  0.311 | -0.063  4.486  0.091 |\n",
      "Negative emotions |     2.499 | -0.190  5.220  0.319 |  0.079  2.263  0.056 |\n",
      "Positive emotions |     3.859 |  0.088 14.762  0.584 | -0.008  0.322  0.005 |\n",
      "Sadness           |     7.086 | -0.451 27.453  0.592 |  0.315 33.242  0.288 |\n",
      "                   Dim.3    ctr   cos2  \n",
      "Achievements      -0.033  8.822  0.131 |\n",
      "Anger             -0.175 20.491  0.343 |\n",
      "Anxiety           -0.031  0.348  0.012 |\n",
      "Family             0.198 39.028  0.375 |\n",
      "Health            -0.019  0.735  0.007 |\n",
      "Home               0.046  2.858  0.048 |\n",
      "Negative emotions -0.143  8.949  0.181 |\n",
      "Positive emotions  0.049 13.571  0.178 |\n",
      "Sadness           -0.113  5.199  0.037 |\n",
      "\n",
      "Columns (the 10 first)\n",
      "                    Iner*1000    Dim.1    ctr   cos2    Dim.2    ctr   cos2  \n",
      "Antes             |     7.695 |  0.241 48.976  0.972 |  0.034  2.398  0.019 |\n",
      "Después           |     4.818 | -0.151 30.665  0.972 | -0.021  1.502  0.019 |\n",
      "Arauca            |     0.628 |  0.181  0.880  0.214 |  0.192  2.438  0.239 |\n",
      "Barranquilla      |     1.522 | -0.085  0.920  0.092 |  0.217 14.971  0.604 |\n",
      "Bogotá            |     2.280 |  0.003  0.003  0.000 | -0.173 25.848  0.696 |\n",
      "Bucaramanga       |     1.569 | -0.056  0.347  0.034 | -0.146  5.819  0.228 |\n",
      "Cali              |     1.632 | -0.103  1.635  0.153 |  0.112  4.743  0.178 |\n",
      "Cúcuta            |     0.523 |  0.117  0.703  0.205 |  0.150  2.870  0.337 |\n",
      "Ibagué            |     0.634 | -0.051  0.177  0.043 |  0.023  0.093  0.009 |\n",
      "Medellín          |     0.739 | -0.064  0.772  0.160 |  0.009  0.041  0.003 |\n",
      "                   Dim.3    ctr   cos2  \n",
      "Antes             -0.009  0.205  0.001 |\n",
      "Después            0.006  0.129  0.001 |\n",
      "Arauca             0.045  0.162  0.013 |\n",
      "Barranquilla       0.044  0.733  0.024 |\n",
      "Bogotá            -0.016  0.272  0.006 |\n",
      "Bucaramanga       -0.123  4.971  0.160 |\n",
      "Cali              -0.171 13.518  0.419 |\n",
      "Cúcuta            -0.126  2.465  0.238 |\n",
      "Ibagué            -0.062  0.799  0.064 |\n",
      "Medellín          -0.069  2.698  0.185 |\n"
     ]
    }
   ],
   "source": [
    "summary(ca2)\n",
    "summary(ca2, nbelements=Inf, file=\"out_CA.txt\")\n",
    "desc_tab=dimdesc(ca2)"
   ]
  },
  {
   "cell_type": "code",
   "execution_count": 9,
   "metadata": {},
   "outputs": [
    {
     "data": {
      "image/png": "[encoded data removed]",
      "text/plain": [
       "plot without title"
      ]
     },
     "metadata": {},
     "output_type": "display_data"
    }
   ],
   "source": [
    "plot(ca2,\n",
    "    shadowtext=TRUE,\n",
    "    unselect=.95,\n",
    "    cex=.8,\n",
    "    selectRow=\"cos2 30\"\n",
    "    )"
   ]
  },
  {
   "cell_type": "code",
   "execution_count": 10,
   "metadata": {},
   "outputs": [
    {
     "data": {
      "image/png": "[encoded data removed]",
      "text/plain": [
       "plot without title"
      ]
     },
     "metadata": {},
     "output_type": "display_data"
    }
   ],
   "source": [
    "plot(ca2,\n",
    "    shadowtext=TRUE,\n",
    "    unselect=.95,\n",
    "    cex=.8,\n",
    "    selectRow=\"contrib 30\"\n",
    "    )"
   ]
  },
  {
   "cell_type": "code",
   "execution_count": 11,
   "metadata": {},
   "outputs": [
    {
     "data": {
      "text/html": [
       "<strong>png:</strong> 2"
      ],
      "text/latex": [
       "\\textbf{png:} 2"
      ],
      "text/markdown": [
       "**png:** 2"
      ],
      "text/plain": [
       "png \n",
       "  2 "
      ]
     },
     "metadata": {},
     "output_type": "display_data"
    }
   ],
   "source": [
    "# pdf(\"ca_alcaldes_top5.pdf\", width = 12, height = 12)\n",
    "pdf(\"ca_alcaldes.pdf\", width = 12, height = 12)\n",
    "\n",
    "plot(ca2,\n",
    "    shadowtext=TRUE,\n",
    "    unselect=.9,\n",
    "    cex=.15,\n",
    "    )\n",
    "dev.off()\n"
   ]
  },
  {
   "cell_type": "code",
   "execution_count": 12,
   "metadata": {},
   "outputs": [
    {
     "data": {
      "text/html": [
       "<strong>png:</strong> 2"
      ],
      "text/latex": [
       "\\textbf{png:} 2"
      ],
      "text/markdown": [
       "**png:** 2"
      ],
      "text/plain": [
       "png \n",
       "  2 "
      ]
     },
     "metadata": {},
     "output_type": "display_data"
    }
   ],
   "source": [
    "# pdf(\"ca_alcaldes_top5_contrib_100.pdf\", width = 12, height = 12)\n",
    "pdf(\"ca_alcaldes_contrib_100.pdf\", width = 12, height = 12)\n",
    "\n",
    "plot(ca2,\n",
    "    shadowtext=TRUE,\n",
    "    unselect=.9,\n",
    "    cex=.25,\n",
    "    selectRow=\"contrib 100\"\n",
    "    )\n",
    "dev.off()\n"
   ]
  },
  {
   "cell_type": "code",
   "execution_count": 13,
   "metadata": {},
   "outputs": [
    {
     "data": {
      "text/html": [
       "<strong>png:</strong> 2"
      ],
      "text/latex": [
       "\\textbf{png:} 2"
      ],
      "text/markdown": [
       "**png:** 2"
      ],
      "text/plain": [
       "png \n",
       "  2 "
      ]
     },
     "metadata": {},
     "output_type": "display_data"
    }
   ],
   "source": [
    "# pdf(\"ca_alcaldes_top5_cos2_100.pdf\", width = 12, height = 12)\n",
    "pdf(\"ca_alcaldes_cos2_100.pdf\", width = 12, height = 12)\n",
    "\n",
    "plot(ca2,\n",
    "    shadowtext=TRUE,\n",
    "    unselect=.95,\n",
    "    cex=.5,\n",
    "    selectRow=\"cos2 100\"\n",
    "    )\n",
    "dev.off()\n"
   ]
  },
  {
   "cell_type": "code",
   "execution_count": 14,
   "metadata": {},
   "outputs": [],
   "source": [
    "coords=rbind(data.frame(ca2$col$coord[,c(1,2,3)]),data.frame(ca2$row$coord[,c(1,2,3)]))\n",
    "colnames(coords)=c(\"x_pos\",\"y_pos\",\"z_pos\")"
   ]
  },
  {
   "cell_type": "code",
   "execution_count": 15,
   "metadata": {},
   "outputs": [],
   "source": [
    "write.csv(lex_cont_tbl, \"lex_cont_tbl_output_R.csv\", fileEncoding =\"UTF-8\")\n",
    "write.csv(coords, \"nodes_coords.csv\", fileEncoding =\"UTF-8\")"
   ]
  },
  {
   "cell_type": "code",
   "execution_count": 16,
   "metadata": {},
   "outputs": [
    {
     "data": {
      "text/html": [
       "<table>\n",
       "<thead><tr><th></th><th scope=col>x_pos</th><th scope=col>y_pos</th><th scope=col>z_pos</th></tr></thead>\n",
       "<tbody>\n",
       "\t<tr><th scope=row>Antes</th><td> 0.241374832</td><td> 0.033874665</td><td>-0.009001457</td></tr>\n",
       "\t<tr><th scope=row>Después</th><td>-0.151130297</td><td>-0.021209702</td><td> 0.005636018</td></tr>\n",
       "\t<tr><th scope=row>Arauca</th><td> 0.181493596</td><td> 0.191557623</td><td> 0.044886073</td></tr>\n",
       "\t<tr><th scope=row>Barranquilla</th><td>-0.084657834</td><td> 0.216536211</td><td> 0.043518989</td></tr>\n",
       "\t<tr><th scope=row>Bogotá</th><td> 0.002703912</td><td>-0.173466774</td><td>-0.016155216</td></tr>\n",
       "\t<tr><th scope=row>Bucaramanga</th><td>-0.056380864</td><td>-0.146408214</td><td>-0.122868407</td></tr>\n",
       "\t<tr><th scope=row>Cali</th><td>-0.103305253</td><td> 0.111597054</td><td>-0.171062892</td></tr>\n",
       "\t<tr><th scope=row>Cúcuta</th><td> 0.117197277</td><td> 0.150204816</td><td>-0.126375081</td></tr>\n",
       "\t<tr><th scope=row>Ibagué</th><td>-0.050791253</td><td> 0.023369017</td><td>-0.062065846</td></tr>\n",
       "\t<tr><th scope=row>Medellín</th><td>-0.064457834</td><td> 0.009431391</td><td>-0.069398216</td></tr>\n",
       "\t<tr><th scope=row>Montería</th><td>-0.047846120</td><td>-0.010991711</td><td> 0.035943788</td></tr>\n",
       "\t<tr><th scope=row>Neiva</th><td> 0.094797598</td><td>-0.213322184</td><td> 0.163766326</td></tr>\n",
       "\t<tr><th scope=row>Pasto</th><td> 0.142198990</td><td>-0.008044068</td><td>-0.021608587</td></tr>\n",
       "\t<tr><th scope=row>Popayán</th><td> 0.080989249</td><td>-0.003055032</td><td> 0.006002924</td></tr>\n",
       "\t<tr><th scope=row>Riohacha</th><td> 0.060598044</td><td>-0.010264209</td><td> 0.068071225</td></tr>\n",
       "\t<tr><th scope=row>Santa.Marta</th><td> 0.093238140</td><td>-0.073015749</td><td> 0.186025057</td></tr>\n",
       "\t<tr><th scope=row>Sincelejo</th><td>-0.069551713</td><td> 0.102884411</td><td> 0.344900313</td></tr>\n",
       "\t<tr><th scope=row>Tunja</th><td>-0.165684488</td><td> 0.111213860</td><td> 0.127162606</td></tr>\n",
       "\t<tr><th scope=row>Valledupar</th><td>-0.137063118</td><td> 0.229078449</td><td>-0.173739700</td></tr>\n",
       "\t<tr><th scope=row>Villavicencio</th><td> 0.158805589</td><td>-0.014292087</td><td>-0.058903084</td></tr>\n",
       "\t<tr><th scope=row>Derecha</th><td>-0.022418233</td><td> 0.076134078</td><td> 0.036452595</td></tr>\n",
       "\t<tr><th scope=row>Izquierda</th><td> 0.012029421</td><td>-0.040852858</td><td>-0.019560133</td></tr>\n",
       "\t<tr><th scope=row>Achievements</th><td> 0.065202617</td><td> 0.040903071</td><td>-0.033492120</td></tr>\n",
       "\t<tr><th scope=row>Anger</th><td>-0.001611974</td><td>-0.163128249</td><td>-0.175348720</td></tr>\n",
       "\t<tr><th scope=row>Anxiety</th><td>-0.125029457</td><td>-0.145840757</td><td>-0.031099552</td></tr>\n",
       "\t<tr><th scope=row>Family</th><td>-0.206818063</td><td> 0.055715821</td><td> 0.197592273</td></tr>\n",
       "\t<tr><th scope=row>Health</th><td>-0.172120505</td><td>-0.125225552</td><td>-0.019359258</td></tr>\n",
       "\t<tr><th scope=row>Home</th><td>-0.116729524</td><td>-0.063133223</td><td> 0.045750448</td></tr>\n",
       "\t<tr><th scope=row>Negative emotions</th><td>-0.189928198</td><td> 0.079301715</td><td>-0.143200551</td></tr>\n",
       "\t<tr><th scope=row>Positive emotions</th><td> 0.088442384</td><td>-0.008283088</td><td> 0.048832037</td></tr>\n",
       "\t<tr><th scope=row>Sadness</th><td>-0.451048395</td><td> 0.314773791</td><td>-0.113029282</td></tr>\n",
       "</tbody>\n",
       "</table>\n"
      ],
      "text/latex": [
       "\\begin{tabular}{r|lll}\n",
       "  & x\\_pos & y\\_pos & z\\_pos\\\\\n",
       "\\hline\n",
       "\tAntes &  0.241374832 &  0.033874665 & -0.009001457\\\\\n",
       "\tDespués & -0.151130297 & -0.021209702 &  0.005636018\\\\\n",
       "\tArauca &  0.181493596 &  0.191557623 &  0.044886073\\\\\n",
       "\tBarranquilla & -0.084657834 &  0.216536211 &  0.043518989\\\\\n",
       "\tBogotá &  0.002703912 & -0.173466774 & -0.016155216\\\\\n",
       "\tBucaramanga & -0.056380864 & -0.146408214 & -0.122868407\\\\\n",
       "\tCali & -0.103305253 &  0.111597054 & -0.171062892\\\\\n",
       "\tCúcuta &  0.117197277 &  0.150204816 & -0.126375081\\\\\n",
       "\tIbagué & -0.050791253 &  0.023369017 & -0.062065846\\\\\n",
       "\tMedellín & -0.064457834 &  0.009431391 & -0.069398216\\\\\n",
       "\tMontería & -0.047846120 & -0.010991711 &  0.035943788\\\\\n",
       "\tNeiva &  0.094797598 & -0.213322184 &  0.163766326\\\\\n",
       "\tPasto &  0.142198990 & -0.008044068 & -0.021608587\\\\\n",
       "\tPopayán &  0.080989249 & -0.003055032 &  0.006002924\\\\\n",
       "\tRiohacha &  0.060598044 & -0.010264209 &  0.068071225\\\\\n",
       "\tSanta.Marta &  0.093238140 & -0.073015749 &  0.186025057\\\\\n",
       "\tSincelejo & -0.069551713 &  0.102884411 &  0.344900313\\\\\n",
       "\tTunja & -0.165684488 &  0.111213860 &  0.127162606\\\\\n",
       "\tValledupar & -0.137063118 &  0.229078449 & -0.173739700\\\\\n",
       "\tVillavicencio &  0.158805589 & -0.014292087 & -0.058903084\\\\\n",
       "\tDerecha & -0.022418233 &  0.076134078 &  0.036452595\\\\\n",
       "\tIzquierda &  0.012029421 & -0.040852858 & -0.019560133\\\\\n",
       "\tAchievements &  0.065202617 &  0.040903071 & -0.033492120\\\\\n",
       "\tAnger & -0.001611974 & -0.163128249 & -0.175348720\\\\\n",
       "\tAnxiety & -0.125029457 & -0.145840757 & -0.031099552\\\\\n",
       "\tFamily & -0.206818063 &  0.055715821 &  0.197592273\\\\\n",
       "\tHealth & -0.172120505 & -0.125225552 & -0.019359258\\\\\n",
       "\tHome & -0.116729524 & -0.063133223 &  0.045750448\\\\\n",
       "\tNegative emotions & -0.189928198 &  0.079301715 & -0.143200551\\\\\n",
       "\tPositive emotions &  0.088442384 & -0.008283088 &  0.048832037\\\\\n",
       "\tSadness & -0.451048395 &  0.314773791 & -0.113029282\\\\\n",
       "\\end{tabular}\n"
      ],
      "text/markdown": [
       "\n",
       "| <!--/--> | x_pos | y_pos | z_pos |\n",
       "|---|---|---|---|\n",
       "| Antes |  0.241374832 |  0.033874665 | -0.009001457 |\n",
       "| Después | -0.151130297 | -0.021209702 |  0.005636018 |\n",
       "| Arauca |  0.181493596 |  0.191557623 |  0.044886073 |\n",
       "| Barranquilla | -0.084657834 |  0.216536211 |  0.043518989 |\n",
       "| Bogotá |  0.002703912 | -0.173466774 | -0.016155216 |\n",
       "| Bucaramanga | -0.056380864 | -0.146408214 | -0.122868407 |\n",
       "| Cali | -0.103305253 |  0.111597054 | -0.171062892 |\n",
       "| Cúcuta |  0.117197277 |  0.150204816 | -0.126375081 |\n",
       "| Ibagué | -0.050791253 |  0.023369017 | -0.062065846 |\n",
       "| Medellín | -0.064457834 |  0.009431391 | -0.069398216 |\n",
       "| Montería | -0.047846120 | -0.010991711 |  0.035943788 |\n",
       "| Neiva |  0.094797598 | -0.213322184 |  0.163766326 |\n",
       "| Pasto |  0.142198990 | -0.008044068 | -0.021608587 |\n",
       "| Popayán |  0.080989249 | -0.003055032 |  0.006002924 |\n",
       "| Riohacha |  0.060598044 | -0.010264209 |  0.068071225 |\n",
       "| Santa.Marta |  0.093238140 | -0.073015749 |  0.186025057 |\n",
       "| Sincelejo | -0.069551713 |  0.102884411 |  0.344900313 |\n",
       "| Tunja | -0.165684488 |  0.111213860 |  0.127162606 |\n",
       "| Valledupar | -0.137063118 |  0.229078449 | -0.173739700 |\n",
       "| Villavicencio |  0.158805589 | -0.014292087 | -0.058903084 |\n",
       "| Derecha | -0.022418233 |  0.076134078 |  0.036452595 |\n",
       "| Izquierda |  0.012029421 | -0.040852858 | -0.019560133 |\n",
       "| Achievements |  0.065202617 |  0.040903071 | -0.033492120 |\n",
       "| Anger | -0.001611974 | -0.163128249 | -0.175348720 |\n",
       "| Anxiety | -0.125029457 | -0.145840757 | -0.031099552 |\n",
       "| Family | -0.206818063 |  0.055715821 |  0.197592273 |\n",
       "| Health | -0.172120505 | -0.125225552 | -0.019359258 |\n",
       "| Home | -0.116729524 | -0.063133223 |  0.045750448 |\n",
       "| Negative emotions | -0.189928198 |  0.079301715 | -0.143200551 |\n",
       "| Positive emotions |  0.088442384 | -0.008283088 |  0.048832037 |\n",
       "| Sadness | -0.451048395 |  0.314773791 | -0.113029282 |\n",
       "\n"
      ],
      "text/plain": [
       "                  x_pos        y_pos        z_pos       \n",
       "Antes              0.241374832  0.033874665 -0.009001457\n",
       "Después           -0.151130297 -0.021209702  0.005636018\n",
       "Arauca             0.181493596  0.191557623  0.044886073\n",
       "Barranquilla      -0.084657834  0.216536211  0.043518989\n",
       "Bogotá             0.002703912 -0.173466774 -0.016155216\n",
       "Bucaramanga       -0.056380864 -0.146408214 -0.122868407\n",
       "Cali              -0.103305253  0.111597054 -0.171062892\n",
       "Cúcuta             0.117197277  0.150204816 -0.126375081\n",
       "Ibagué            -0.050791253  0.023369017 -0.062065846\n",
       "Medellín          -0.064457834  0.009431391 -0.069398216\n",
       "Montería          -0.047846120 -0.010991711  0.035943788\n",
       "Neiva              0.094797598 -0.213322184  0.163766326\n",
       "Pasto              0.142198990 -0.008044068 -0.021608587\n",
       "Popayán            0.080989249 -0.003055032  0.006002924\n",
       "Riohacha           0.060598044 -0.010264209  0.068071225\n",
       "Santa.Marta        0.093238140 -0.073015749  0.186025057\n",
       "Sincelejo         -0.069551713  0.102884411  0.344900313\n",
       "Tunja             -0.165684488  0.111213860  0.127162606\n",
       "Valledupar        -0.137063118  0.229078449 -0.173739700\n",
       "Villavicencio      0.158805589 -0.014292087 -0.058903084\n",
       "Derecha           -0.022418233  0.076134078  0.036452595\n",
       "Izquierda          0.012029421 -0.040852858 -0.019560133\n",
       "Achievements       0.065202617  0.040903071 -0.033492120\n",
       "Anger             -0.001611974 -0.163128249 -0.175348720\n",
       "Anxiety           -0.125029457 -0.145840757 -0.031099552\n",
       "Family            -0.206818063  0.055715821  0.197592273\n",
       "Health            -0.172120505 -0.125225552 -0.019359258\n",
       "Home              -0.116729524 -0.063133223  0.045750448\n",
       "Negative emotions -0.189928198  0.079301715 -0.143200551\n",
       "Positive emotions  0.088442384 -0.008283088  0.048832037\n",
       "Sadness           -0.451048395  0.314773791 -0.113029282"
      ]
     },
     "metadata": {},
     "output_type": "display_data"
    }
   ],
   "source": [
    "coords"
   ]
  }
 ],
 "metadata": {
  "kernelspec": {
   "display_name": "R",
   "language": "R",
   "name": "ir"
  },
  "language_info": {
   "codemirror_mode": "r",
   "file_extension": ".r",
   "mimetype": "text/x-r-source",
   "name": "R",
   "pygments_lexer": "r",
   "version": "3.6.1"
  }
 },
 "nbformat": 4,
 "nbformat_minor": 4
}
